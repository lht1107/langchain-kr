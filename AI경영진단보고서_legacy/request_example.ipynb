{
 "cells": [
  {
   "cell_type": "code",
   "execution_count": 3,
   "metadata": {},
   "outputs": [],
   "source": [
    "import requests\n",
    "\n",
    "def get_company_analysis(company_name, analysis_types=['strength', 'weakness', 'insight', 'total']):\n",
    "    results = {}\n",
    "    for analysis_type in analysis_types:\n",
    "        response = requests.get(f'http://127.0.0.1:8000/analyze/{company_name}/{analysis_type}')\n",
    "        results[analysis_type] = response.text\n",
    "    return results"
   ]
  },
  {
   "cell_type": "code",
   "execution_count": 4,
   "metadata": {},
   "outputs": [
    {
     "name": "stdout",
     "output_type": "stream",
     "text": [
      "\n",
      "[STRENGTH ANALYSIS]\n",
      "[Analysis Start] Analyzing Company_1\n",
      "\n",
      "[Strength Analysis]\n",
      "2024년 10월 기준으로, 상위 5개 매출처의 연간 매출금액은 총 236,333백만원으로, 전체 매출의 72.21%를 차지하고 있어 거래처 집중도 위험이 존재합니다. 특히, SalesPartner_8은 신용등급이 CCC-로 낮아 신용 위험이 우려되며, 2024년 2월에 매출이 1,545백만원으로 급감한 점이 주목됩니다. 반면, 상위 5개 매입처의 연간 매입금액은 235,112백만원으로, 전체 매입의 73.78%를 차지하고 있으며, PurchasePartner_4의 평균 지급기일이 21.17일로 짧아 안정적인 거래 관계를 유지하고 있습니다. 전반적으로, 주요 거래처의 신용도와 거래 패턴이 긍정적으로 유지되고 있으며, 매출 및 매입 성장 추세가 안정적임을 나타냅니다.\n",
      "[Analysis Complete]\n",
      "\n",
      "[WEAKNESS ANALYSIS]\n",
      "[Analysis Start] Analyzing Company_1\n",
      "\n",
      "[Weakness Analysis]\n",
      "2024년 10월 기준으로 분석한 재무 데이터에 따르면, 매출액은 2023년 63,680백만 원에서 2024년 예상치 65,257백만 원으로 소폭 증가하였으나, 매출액 증가율은 -21.97%에서 2.48%로 회복세를 보이고 있습니다. 그러나 총자산은 2023년 30,048백만 원에서 2024년 예상치 28,235백만 원으로 감소하였고, 총자산 증가율 또한 -6.03%로 업종 평균인 0.05%에 비해 부진한 모습을 보이고 있습니다. 월별 매출액 증가율은 2023년 11월 -65.03%에서 2024년 10월 -34.47%로 개선되었지만, 여전히 전년 동월 대비 부정적인 수치를 기록하고 있어 단기적인 성장세가 불안정함을 나타냅니다.\n",
      "[Analysis Complete]\n",
      "\n",
      "[INSIGHT ANALYSIS]\n",
      "회사의 매출은 업종 평균치 보다 훨씬 높은 0.87%의 증가율을 보이며, 특히 월별 매출 증가율이 402.08%로 추세적인 성장을 나타냅니다. 반면, 영업이익과 순이익의 큰 변동성과 지속적인 적자는 수익성 관점에서 심각한 우려를 제기합니다. 영업이익률 -1.84%와 순이익률 -3.10%는 개선이 절실하며, 재무구조의 복원을 위해 비용 절감 및 수익성 중심의 전략 수립이 필요합니다. 매출 성장을 leverage하여 핵심 자산에 대한 최적화를 추진하고 재무 디지털화와 같은 비용 절감 조치를 검토하세요. 전문 컨설팅을 통한 수익구조 분석 및 혁신적 접근을 적용하여 장기적 수익성 문제에 대응해야 합니다.\n",
      "\n",
      "[TOTAL ANALYSIS]\n",
      "[Analysis Start] Analyzing Company_1\n",
      "\n",
      "[Strength Analysis]\n",
      "2024년 10월 기준으로, 매출액은 61,772백만 원으로 전년 대비 3.06% 감소하였으나, 업종 평균 매출액 증가율이 -19.22%인 점을 감안할 때 상대적으로 양호한 성과를 보이고 있습니다. 총자산은 30,903백만 원으로 6.18% 증가하였으며, 업종 평균 총자산 증가율이 2.06%인 것과 비교할 때, 자산 성장세가 두드러집니다. 최근 월별 매출액은 8,662백만 원으로, 전년 동월 대비 91.72% 증가하여 긍정적인 성장세를 나타내고 있으며, 이는 향후 매출 회복의 가능성을 시사합니다.\n",
      "[Weakness Analysis]\n",
      "**개요**  \n",
      "2024년 10월 기준으로, 상위 5개 매출처의 거래 비율이 69.33%로 높은 집중도를 보이며, 이는 거래처의 안정성에 위험 요소로 작용할 수 있습니다. 특히, SalesPartner_1의 신용등급이 B로 낮아, 향후 거래 안정성에 부정적인 영향을 미칠 가능성이 있습니다. 매출처의 평균 회수 기일은 47.33일로, 2024년 7월에 비해 증가세를 보이며, 이는 자금 회수에 어려움을 겪을 수 있음을 시사합니다. 또한, 상위 5개 매입처의 거래 비율이 71.36%로, 이들 중 PurchasePartner_4의 신용등급이 B로 낮아 공급망의 리스크를 증가시키고 있습니다.\n",
      "\n",
      "**상세 분석**  \n",
      "상위 매출처 중 SalesPartner_1은 연간 매출금액이 36,661백만원으로, 신용등급이 B로 가장 낮아 신용 위험이 큽니다. 매출처의 평균 매출금액은 4,518.17백만원으로, 2024년 7월에 비해 감소세를 보이고 있으며, 이는 거래처의 신뢰도 저하를 나타낼 수 있습니다. 매입처의 경우, PurchasePartner_\n",
      "[Final Analysis]\n",
      "회사의 강점으로는 총매출은 전년 대비 3.06% 하락했지만 업종 평균 대비 여전히 양호하고, 총자산은 6.18% 성장해 상대적인 자산 강점을 가지고 있습니다. 월별 매출의 91.72% 증가라는 눈에 띄는 성장세는 사업 성장 가능성을 보여줍니다. 반면 주요 매출처의 집중도(69.33%)는 거래처 안정성에 위험을 내포하며, 낮은 신용등급(SalesPartner_1 B등급)은 이를 더욱 악화시킬 수 있습니다. 이를 개선하기 위해 수익원이 다각화될 필요가 있으며, 안정적인 파트너 관리 방안과 함께 운전자본 관리를 강화하여 자금 회수의 부정적 영향을 완화하는 것이 중요합니다.\n",
      "[Analysis Complete]\n"
     ]
    }
   ],
   "source": [
    "company = \"Company_1\"  # 분석하고 싶은 회사명 입력\n",
    "analysis_results = get_company_analysis(company)\n",
    "\n",
    "# 각 분석 결과 출력\n",
    "for analysis_type, result in analysis_results.items():\n",
    "    print(f\"\\n[{analysis_type.upper()} ANALYSIS]\")\n",
    "    print(result)"
   ]
  },
  {
   "cell_type": "code",
   "execution_count": null,
   "metadata": {},
   "outputs": [],
   "source": []
  }
 ],
 "metadata": {
  "kernelspec": {
   "display_name": "langchain-kr--MicMCEo-py3.11",
   "language": "python",
   "name": "python3"
  },
  "language_info": {
   "codemirror_mode": {
    "name": "ipython",
    "version": 3
   },
   "file_extension": ".py",
   "mimetype": "text/x-python",
   "name": "python",
   "nbconvert_exporter": "python",
   "pygments_lexer": "ipython3",
   "version": "3.11.9"
  }
 },
 "nbformat": 4,
 "nbformat_minor": 2
}
