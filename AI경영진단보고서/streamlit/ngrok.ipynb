{
 "cells": [
  {
   "cell_type": "code",
   "execution_count": 4,
   "metadata": {},
   "outputs": [
    {
     "name": "stdout",
     "output_type": "stream",
     "text": [
      "                                                                                                    \r"
     ]
    }
   ],
   "source": [
    "import os\n",
    "from dotenv import load_dotenv\n",
    "from pyngrok import ngrok\n",
    "\n",
    "load_dotenv()\n",
    "\n",
    "ngrok_token = os.getenv(\"NGROK_TOKEN\")\n",
    "\n",
    "ngrok.set_auth_token(ngrok_token)"
   ]
  },
  {
   "cell_type": "code",
   "execution_count": null,
   "metadata": {},
   "outputs": [],
   "source": [
    "public_url=ngrok.connect(port='8501')\n",
    "print(public_url)"
   ]
  },
  {
   "cell_type": "code",
   "execution_count": 6,
   "metadata": {},
   "outputs": [
    {
     "name": "stdout",
     "output_type": "stream",
     "text": [
      "success\n"
     ]
    }
   ],
   "source": [
    "import os\n",
    "\n",
    "# Windows의 경우 경로 설정 (이 부분을 주석 해제해야 함)\n",
    "config_dir = os.path.expanduser('~/.ngrok2')\n",
    "os.makedirs(config_dir, exist_ok=True)\n",
    "\n",
    "# ngrok 설정 내용\n",
    "ngrok_config = '''version: \"2\"\n",
    "tunnels:\n",
    "  app1:\n",
    "    addr: 8501\n",
    "    proto: http\n",
    "  app2:\n",
    "    addr: 8502\n",
    "    proto: http\n",
    "'''\n",
    "\n",
    "# 설정 파일 저장 (경로 수정)\n",
    "config_path = os.path.join(config_dir, 'ngrok.yml')\n",
    "with open(config_path, 'w') as config_file:\n",
    "    config_file.write(ngrok_config)\n",
    "    print(\"success\")\n"
   ]
  },
  {
   "cell_type": "code",
   "execution_count": null,
   "metadata": {},
   "outputs": [],
   "source": []
  }
 ],
 "metadata": {
  "kernelspec": {
   "display_name": "langchain-kr--MicMCEo-py3.11",
   "language": "python",
   "name": "python3"
  },
  "language_info": {
   "codemirror_mode": {
    "name": "ipython",
    "version": 3
   },
   "file_extension": ".py",
   "mimetype": "text/x-python",
   "name": "python",
   "nbconvert_exporter": "python",
   "pygments_lexer": "ipython3",
   "version": "3.11.9"
  }
 },
 "nbformat": 4,
 "nbformat_minor": 2
}
