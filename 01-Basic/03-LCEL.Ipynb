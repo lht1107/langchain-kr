{
 "cells": [
  {
   "cell_type": "markdown",
   "metadata": {},
   "source": [
    "## 기본 예시: 프롬프트 + 모델 + 출력 파서\n",
    "\n",
    "가장 기본적이고 일반적인 사용 사례는 prompt 템플릿과 모델을 함께 연결하는 것입니다. 이것이 어떻게 작동하는지 보기 위해, 각 나라별 수도를 물어보는 Chain을 생성해 보겠습니다.\n"
   ]
  },
  {
   "cell_type": "code",
   "execution_count": 1,
   "metadata": {},
   "outputs": [
    {
     "data": {
      "text/plain": [
       "True"
      ]
     },
     "execution_count": 1,
     "metadata": {},
     "output_type": "execute_result"
    }
   ],
   "source": [
    "# API KEY를 환경변수로 관리하기 위한 설정 파일\n",
    "from dotenv import load_dotenv\n",
    "\n",
    "# API KEY 정보로드\n",
    "load_dotenv()"
   ]
  },
  {
   "cell_type": "code",
   "execution_count": 2,
   "metadata": {},
   "outputs": [
    {
     "name": "stdout",
     "output_type": "stream",
     "text": [
      "LangSmith 추적을 시작합니다.\n",
      "[프로젝트명]\n",
      "CH01-Basic\n"
     ]
    }
   ],
   "source": [
    "# LangSmith 추적을 설정합니다. https://smith.langchain.com\n",
    "# !pip install -qU langchain-teddynote\n",
    "from langchain_teddynote import logging\n",
    "\n",
    "# 프로젝트 이름을 입력합니다.\n",
    "logging.langsmith(\"CH01-Basic\")"
   ]
  },
  {
   "cell_type": "markdown",
   "metadata": {},
   "source": [
    "## 프롬프트 템플릿의 활용\n",
    "\n",
    "`PromptTemplate`\n",
    "\n",
    "- 사용자의 입력 변수를 사용하여 완전한 프롬프트 문자열을 만드는 데 사용되는 템플릿입니다\n",
    "- 사용법\n",
    "  - `template`: 템플릿 문자열입니다. 이 문자열 내에서 중괄호 `{}`는 변수를 나타냅니다.\n",
    "  - `input_variables`: 중괄호 안에 들어갈 변수의 이름을 리스트로 정의합니다.\n",
    "\n",
    "`input_variables`\n",
    "\n",
    "- input_variables는 PromptTemplate에서 사용되는 변수의 이름을 정의하는 리스트입니다."
   ]
  },
  {
   "cell_type": "code",
   "execution_count": 3,
   "metadata": {},
   "outputs": [],
   "source": [
    "from langchain_teddynote.messages import stream_response  # 스트리밍 출력\n",
    "from langchain_core.prompts import PromptTemplate"
   ]
  },
  {
   "cell_type": "markdown",
   "metadata": {},
   "source": [
    "`from_template()` 메소드를 사용하여 PromptTemplate 객체 생성\n"
   ]
  },
  {
   "cell_type": "code",
   "execution_count": 4,
   "metadata": {},
   "outputs": [
    {
     "data": {
      "text/plain": [
       "PromptTemplate(input_variables=['country'], template='{country}의 수도는 어디인가요?')"
      ]
     },
     "execution_count": 4,
     "metadata": {},
     "output_type": "execute_result"
    }
   ],
   "source": [
    "# template 정의\n",
    "template = \"{country}의 수도는 어디인가요?\"\n",
    "\n",
    "# from_template 메소드를 이용하여 PromptTemplate 객체 생성\n",
    "prompt_template = PromptTemplate.from_template(template)\n",
    "prompt_template"
   ]
  },
  {
   "cell_type": "code",
   "execution_count": 5,
   "metadata": {},
   "outputs": [
    {
     "data": {
      "text/plain": [
       "'대한민국의 수도는 어디인가요?'"
      ]
     },
     "execution_count": 5,
     "metadata": {},
     "output_type": "execute_result"
    }
   ],
   "source": [
    "# prompt 생성\n",
    "prompt = prompt_template.format(country=\"대한민국\")\n",
    "prompt"
   ]
  },
  {
   "cell_type": "code",
   "execution_count": 6,
   "metadata": {},
   "outputs": [
    {
     "data": {
      "text/plain": [
       "'미국의 수도는 어디인가요?'"
      ]
     },
     "execution_count": 6,
     "metadata": {},
     "output_type": "execute_result"
    }
   ],
   "source": [
    "# prompt 생성\n",
    "prompt = prompt_template.format(country=\"미국\")\n",
    "prompt"
   ]
  },
  {
   "cell_type": "code",
   "execution_count": 7,
   "metadata": {},
   "outputs": [],
   "source": [
    "from langchain_openai import ChatOpenAI\n",
    "\n",
    "model = ChatOpenAI(\n",
    "    model=\"gpt-3.5-turbo\",\n",
    "    max_tokens=2048,\n",
    "    temperature=0.1,\n",
    ")"
   ]
  },
  {
   "cell_type": "markdown",
   "metadata": {},
   "source": [
    "## Chain 생성\n",
    "\n",
    "### LCEL(LangChain Expression Language)\n",
    "\n",
    "![lcel.png](./images/lcel.png)\n",
    "\n",
    "여기서 우리는 LCEL을 사용하여 다양한 구성 요소를 단일 체인으로 결합합니다\n",
    "\n",
    "```\n",
    "chain = prompt | model | output_parser\n",
    "```\n",
    "\n",
    "`|` 기호는 [unix 파이프 연산자](<https://en.wikipedia.org/wiki/Pipeline_(Unix)>)와 유사하며, 서로 다른 구성 요소를 연결하고 한 구성 요소의 출력을 다음 구성 요소의 입력으로 전달합니다.\n",
    "\n",
    "이 체인에서 사용자 입력은 프롬프트 템플릿으로 전달되고, 그런 다음 프롬프트 템플릿 출력은 모델로 전달됩니다. 각 구성 요소를 개별적으로 살펴보면 무슨 일이 일어나고 있는지 이해할 수 있습니다.\n"
   ]
  },
  {
   "cell_type": "code",
   "execution_count": 8,
   "metadata": {},
   "outputs": [],
   "source": [
    "# prompt 를 PromptTemplate 객체로 생성합니다.\n",
    "prompt = PromptTemplate.from_template(\"{topic} 에 대해 쉽게 설명해주세요.\")\n",
    "\n",
    "model = ChatOpenAI()\n",
    "\n",
    "chain = prompt | model"
   ]
  },
  {
   "cell_type": "markdown",
   "metadata": {},
   "source": [
    "### invoke() 호출\n",
    "\n",
    "- python 딕셔너리 형태로 입력값을 전달합니다.(키: 값)\n",
    "- invoke() 함수 호출 시, 입력값을 전달합니다."
   ]
  },
  {
   "cell_type": "code",
   "execution_count": 9,
   "metadata": {},
   "outputs": [],
   "source": [
    "# input 딕셔너리에 주제를 '인공지능 모델의 학습 원리'으로 설정합니다.\n",
    "input = {\"topic\": \"인공지능 모델의 학습 원리\"}"
   ]
  },
  {
   "cell_type": "code",
   "execution_count": 10,
   "metadata": {},
   "outputs": [
    {
     "data": {
      "text/plain": [
       "AIMessage(content='인공지능 모델의 학습 원리는 데이터를 입력으로 받아들이고, 이 데이터를 분석하여 패턴이나 규칙을 학습하는 과정입니다. \\n\\n가장 일반적인 학습 방법은 지도 학습이며, 이때는 입력 데이터와 정답 데이터가 함께 제공되어 모델이 이 두 데이터 사이의 관계를 학습합니다. 이를 통해 모델은 입력 데이터를 분석하고 예측을 수행할 수 있게 됩니다.\\n\\n또한, 비지도 학습은 입력 데이터만을 이용하여 모델이 스스로 데이터의 구조나 패턴을 발견하고 학습하는 방법입니다. 이를 통해 모델은 데이터 간의 관계를 파악하거나 군집화를 수행할 수 있습니다.\\n\\n마지막으로, 강화 학습은 환경과 상호작용하면서 보상을 최대화하는 방향으로 모델이 학습하는 방법입니다. 모델은 행동을 취하고 그 결과에 따라 보상을 받아 보상을 최대화하는 전략을 학습하게 됩니다.\\n\\n이러한 학습 방법을 통해 인공지능 모델은 데이터를 분석하고 패턴을 학습하여 예측이나 결정을 수행할 수 있게 됩니다.', additional_kwargs={'refusal': None}, response_metadata={'token_usage': {'completion_tokens': 386, 'prompt_tokens': 33, 'total_tokens': 419, 'completion_tokens_details': {'reasoning_tokens': 0}, 'prompt_tokens_details': {'cached_tokens': 0}}, 'model_name': 'gpt-3.5-turbo-0125', 'system_fingerprint': None, 'finish_reason': 'stop', 'logprobs': None}, id='run-bcd9b6d9-3cf5-4d48-950e-2fb8aafea019-0', usage_metadata={'input_tokens': 33, 'output_tokens': 386, 'total_tokens': 419})"
      ]
     },
     "execution_count": 10,
     "metadata": {},
     "output_type": "execute_result"
    }
   ],
   "source": [
    "# prompt 객체와 model 객체를 파이프(|) 연산자로 연결하고 invoke 메서드를 사용하여 input을 전달합니다.\n",
    "# 이를 통해 AI 모델이 생성한 메시지를 반환합니다.\n",
    "chain.invoke(input)"
   ]
  },
  {
   "cell_type": "markdown",
   "metadata": {},
   "source": [
    "아래는 스트리밍을 출력하는 예시 입니다."
   ]
  },
  {
   "cell_type": "code",
   "execution_count": 11,
   "metadata": {},
   "outputs": [
    {
     "name": "stdout",
     "output_type": "stream",
     "text": [
      "인공지능 모델의 학습 원리는 데이터를 기반으로 하는 것입니다. 모델은 입력된 데이터를 분석하고 패턴을 학습하여 문제를 해결하는 방법을 익히는 것입니다. 이러한 과정을 통해 모델은 예측을 하거나 판단을 내리는 능력을 향상시킬 수 있습니다. 학습 과정은 데이터를 입력받아 가중치를 조정하고 오차를 최소화하는 방향으로 학습을 진행합니다. 이렇게 학습된 모델은 새로운 데이터에 대해 정확한 예측을 할 수 있습니다."
     ]
    }
   ],
   "source": [
    "# 스트리밍 출력을 위한 요청\n",
    "answer = chain.stream(input)\n",
    "# 스트리밍 출력\n",
    "stream_response(answer)"
   ]
  },
  {
   "cell_type": "markdown",
   "metadata": {},
   "source": [
    "### 출력파서(Output Parser)\n"
   ]
  },
  {
   "cell_type": "code",
   "execution_count": 12,
   "metadata": {},
   "outputs": [],
   "source": [
    "from langchain_core.output_parsers import StrOutputParser\n",
    "\n",
    "output_parser = StrOutputParser()"
   ]
  },
  {
   "cell_type": "markdown",
   "metadata": {},
   "source": [
    "Chain 에 출력파서를 추가합니다."
   ]
  },
  {
   "cell_type": "code",
   "execution_count": 13,
   "metadata": {},
   "outputs": [],
   "source": [
    "# 프롬프트, 모델, 출력 파서를 연결하여 처리 체인을 구성합니다.\n",
    "chain = prompt | model | output_parser"
   ]
  },
  {
   "cell_type": "code",
   "execution_count": 14,
   "metadata": {},
   "outputs": [
    {
     "data": {
      "text/plain": [
       "'인공지능 모델의 학습 원리는 데이터를 입력으로 받아 내부적으로 패턴을 학습하고 결과를 예측하는 것입니다. 이 과정은 크게 입력층, 은닉층, 출력층으로 구성된 신경망을 사용하여 이루어집니다. \\n\\n먼저, 모델은 입력층에서 데이터를 받아들이고 은닉층에서 이 데이터를 처리하여 패턴을 학습합니다. 이때, 학습을 통해 가중치와 편향을 조절하여 입력 데이터와 실제 결과 사이의 상관관계를 최대화하는 방향으로 모델을 학습시킵니다.\\n\\n학습이 완료되면, 모델은 새로운 데이터를 입력으로 받아 출력층에서 결과를 예측합니다. 이때, 모델이 학습한 패턴을 바탕으로 입력 데이터와 결과 간의 관계를 예측하게 됩니다.\\n\\n이렇게 인공지능 모델은 학습을 통해 데이터 간의 패턴을 파악하고 새로운 데이터에 대한 예측을 수행하는 것이 핵심 원리입니다.'"
      ]
     },
     "execution_count": 14,
     "metadata": {},
     "output_type": "execute_result"
    }
   ],
   "source": [
    "# chain 객체의 invoke 메서드를 사용하여 input을 전달합니다.\n",
    "input = {\"topic\": \"인공지능 모델의 학습 원리\"}\n",
    "chain.invoke(input)"
   ]
  },
  {
   "cell_type": "code",
   "execution_count": 15,
   "metadata": {},
   "outputs": [
    {
     "name": "stdout",
     "output_type": "stream",
     "text": [
      "인공지능 모델의 학습 원리는 데이터를 입력으로 받아서 패턴을 학습하고, 이를 바탕으로 새로운 데이터를 예측하는 과정입니다. \n",
      "\n",
      "가장 일반적인 학습 방법은 지도학습으로, 이때 모델은 입력 데이터와 정답 레이블이 함께 제공됩니다. 모델은 입력 데이터와 정답 레이블 간의 관계를 학습하여 새로운 데이터에 대해 정확한 예측을 할 수 있게 됩니다.\n",
      "\n",
      "학습 과정은 일반적으로 손실 함수를 사용하여 모델의 예측 값과 정답 레이블 간의 차이를 계산하고, 이를 최소화하기 위해 모델의 가중치를 조정하는 방식으로 이루어집니다. 이러한 반복적인 과정을 통해 모델은 점차적으로 더 나은 예측을 할 수 있도록 개선됩니다.\n",
      "\n",
      "이러한 학습 원리를 통해 인공지능 모델은 데이터를 기반으로 패턴을 학습하고, 이를 활용하여 다양한 문제를 해결할 수 있습니다."
     ]
    }
   ],
   "source": [
    "# 스트리밍 출력을 위한 요청\n",
    "answer = chain.stream(input)\n",
    "# 스트리밍 출력\n",
    "stream_response(answer)"
   ]
  },
  {
   "cell_type": "markdown",
   "metadata": {},
   "source": [
    "### 템플릿을 변경하여 적용\n",
    "\n",
    "- 아래의 프롬프트 내용을 얼마든지 **변경** 하여 테스트 해볼 수 있습니다.\n",
    "- `model_name` 역시 변경하여 테스트가 가능합니다."
   ]
  },
  {
   "cell_type": "code",
   "execution_count": 16,
   "metadata": {},
   "outputs": [],
   "source": [
    "template = \"\"\"\n",
    "당신은 영어를 가르치는 10년차 영어 선생님입니다. 주어진 상황에 맞는 영어 회화를 작성해 주세요.\n",
    "양식은 [FORMAT]을 참고하여 작성해 주세요.\n",
    "\n",
    "#상황:\n",
    "{question}\n",
    "\n",
    "#FORMAT:\n",
    "- 영어 회화:\n",
    "- 한글 해석:\n",
    "\"\"\"\n",
    "\n",
    "# 프롬프트 템플릿을 이용하여 프롬프트를 생성합니다.\n",
    "prompt = PromptTemplate.from_template(template)\n",
    "\n",
    "# ChatOpenAI 챗모델을 초기화합니다.\n",
    "model = ChatOpenAI(model_name=\"gpt-4-turbo\")\n",
    "\n",
    "# 문자열 출력 파서를 초기화합니다.\n",
    "output_parser = StrOutputParser()"
   ]
  },
  {
   "cell_type": "code",
   "execution_count": 17,
   "metadata": {},
   "outputs": [],
   "source": [
    "# 체인을 구성합니다.\n",
    "chain = prompt | model | output_parser"
   ]
  },
  {
   "cell_type": "code",
   "execution_count": 18,
   "metadata": {},
   "outputs": [
    {
     "name": "stdout",
     "output_type": "stream",
     "text": [
      "- 영어 회화:\n",
      "  Customer: Hi, could I see the menu, please?\n",
      "  Waiter: Of course! Here you go.\n",
      "  Customer: Thank you. I’d like to order the grilled salmon with a side of asparagus.\n",
      "  Waiter: Great choice! Would you like anything to drink?\n",
      "  Customer: Could I have a glass of white wine, please?\n",
      "  Waiter: Absolutely, I'll bring that right out for you.\n",
      "\n",
      "- 한글 해석:\n",
      "  손님: 안녕하세요, 메뉴판 좀 볼 수 있을까요?\n",
      "  웨이터: 물론이죠! 여기 있습니다.\n",
      "  손님: 감사합니다. 연어 구이와 아스파라거스 사이드를 주문하겠습니다.\n",
      "  웨이터: 좋은 선택이네요! 음료는 무엇으로 드릴까요?\n",
      "  손님: 화이트 와인 한 잔 주시겠어요?\n",
      "  웨이터: 네, 바로 가져다 드리겠습니다.\n"
     ]
    }
   ],
   "source": [
    "# 완성된 Chain을 실행하여 답변을 얻습니다.\n",
    "print(chain.invoke({\"question\": \"저는 식당에 가서 음식을 주문하고 싶어요\"}))"
   ]
  },
  {
   "cell_type": "code",
   "execution_count": 19,
   "metadata": {},
   "outputs": [
    {
     "name": "stdout",
     "output_type": "stream",
     "text": [
      "#영어 회화:\n",
      "- Excuse me, could I see the menu, please?\n",
      "- I'd like to order the grilled salmon with a side of roasted vegetables.\n",
      "- Could I have a glass of white wine with that?\n",
      "- Thank you, that will be all for now.\n",
      "\n",
      "#한글 해석:\n",
      "- 실례합니다, 메뉴판 좀 볼 수 있을까요?\n",
      "- 구운 연어와 구운 채소 사이드를 주문하고 싶어요.\n",
      "- 그것과 함께 화이트 와인 한 잔 주실 수 있나요?\n",
      "- 감사합니다, 지금은 이게 다입니다."
     ]
    }
   ],
   "source": [
    "# 완성된 Chain을 실행하여 답변을 얻습니다.\n",
    "# 스트리밍 출력을 위한 요청\n",
    "answer = chain.stream({\"question\": \"저는 식당에 가서 음식을 주문하고 싶어요\"})\n",
    "# 스트리밍 출력\n",
    "stream_response(answer)"
   ]
  },
  {
   "cell_type": "code",
   "execution_count": 20,
   "metadata": {},
   "outputs": [
    {
     "name": "stdout",
     "output_type": "stream",
     "text": [
      "- 영어 회화:\n",
      "  A: Hi, I’d like to order a pizza for delivery, please.\n",
      "  B: Sure, what would you like?\n",
      "  A: I’d like a large pepperoni pizza with extra cheese and a side of garlic bread.\n",
      "  B: Anything to drink?\n",
      "  A: Yes, a 2-liter bottle of Coke, please.\n",
      "  B: Great. Can I have your address?\n",
      "  A: It’s 123 Maple Street.\n",
      "  B: And your phone number?\n",
      "  A: 555-1234.\n",
      "  B: Thank you. Your total comes to $24.95. It should take about 30 minutes for delivery. Is there anything else I can help you with?\n",
      "  A: No, that’s all. Thank you!\n",
      "\n",
      "- 한글 해석:\n",
      "  A: 안녕하세요, 배달로 피자를 주문하고 싶습니다.\n",
      "  B: 네, 무엇을 드릴까요?\n",
      "  A: 큰 사이즈의 페퍼로니 피자에 치즈를 추가하고, 마늘빵도 하나 주세요.\n",
      "  B: 음료는 필요하신가요?\n",
      "  A: 네, 콜라 2리터 한 병 주세요.\n",
      "  B: 알겠습니다. 주소를 알려주시겠어요?\n",
      "  A: 123 메이플 스트리트입니다.\n",
      "  B: 전화번호는 어떻게 되나요?\n",
      "  A: 555-1234입니다.\n",
      "  B: 감사합니다. 총 금액은 $24.95이며, 배달은 대략 30분 정도 소요될 예정입니다. 더 도와드릴 것이 있으실까요?\n",
      "  A: 아니요, 그게 다입니다. 감사합니다!"
     ]
    }
   ],
   "source": [
    "# 이번에는 question 을 '미국에서 피자 주문'으로 설정하여 실행합니다.\n",
    "# 스트리밍 출력을 위한 요청\n",
    "answer = chain.stream({\"question\": \"미국에서 피자 주문\"})\n",
    "# 스트리밍 출력\n",
    "stream_response(answer)"
   ]
  },
  {
   "cell_type": "code",
   "execution_count": null,
   "metadata": {},
   "outputs": [],
   "source": []
  }
 ],
 "metadata": {
  "kernelspec": {
   "display_name": "py-test",
   "language": "python",
   "name": "python3"
  },
  "language_info": {
   "codemirror_mode": {
    "name": "ipython",
    "version": 3
   },
   "file_extension": ".py",
   "mimetype": "text/x-python",
   "name": "python",
   "nbconvert_exporter": "python",
   "pygments_lexer": "ipython3",
   "version": "3.10.13"
  }
 },
 "nbformat": 4,
 "nbformat_minor": 2
}
