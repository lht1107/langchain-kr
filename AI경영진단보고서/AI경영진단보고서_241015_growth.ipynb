{
 "cells": [
  {
   "cell_type": "markdown",
   "metadata": {},
   "source": [
    "## 1. 필수 라이브러리 임포트 및 환경 설정\n",
    "- .env에 openai api key 저장: sk-....."
   ]
  },
  {
   "cell_type": "code",
   "execution_count": 1,
   "metadata": {},
   "outputs": [],
   "source": [
    "import os\n",
    "import pandas as pd\n",
    "import numpy as np\n",
    "import matplotlib.pyplot as plt\n",
    "import json\n",
    "from dotenv import load_dotenv\n",
    "from langchain.prompts import PromptTemplate\n",
    "# from langchain.llms import OpenAI\n",
    "from langchain_openai import ChatOpenAI\n",
    "from langchain_core.runnables import RunnableParallel, RunnableMap, RunnablePassthrough, RunnableLambda\n",
    "from dotenv import load_dotenv\n",
    "from langchain_teddynote import logging\n",
    "from langchain_teddynote.messages import stream_response\n",
    "\n",
    "# env 파일 읽기\n",
    "load_dotenv()\n",
    "\n",
    "# OpenAI API 키 가져오기\n",
    "openai_api_key = os.getenv(\"OPENAI_API_KEY\")\n",
    "\n",
    "# 프로젝트 이름을 입력합니다. \n",
    "# - 로깅용 내부망에서 안됨\n",
    "# - Prompt, Output에 대한 token 사용량 및 과금 정보 추적 가능\n",
    "# logging.langsmith(\"AI_report\", set_enable=True)"
   ]
  },
  {
   "cell_type": "markdown",
   "metadata": {},
   "source": [
    "## 2. Sample Data 생성\n",
    "- postgre와 연결 필요"
   ]
  },
  {
   "cell_type": "code",
   "execution_count": null,
   "metadata": {},
   "outputs": [],
   "source": [
    "import os\n",
    "import pandas as pd\n",
    "import numpy as np\n",
    "\n",
    "# Random seed 설정 for reproducibility\n",
    "np.random.seed(42)\n",
    "\n",
    "# 회사 및 업종 정보 생성\n",
    "num_companies = 100  # 총 100개의 회사 생성\n",
    "company_names = [f'Company_{i+1}' for i in range(num_companies)]  # 회사명 리스트 생성\n",
    "industries = ['Manufacturing', 'Retail', 'Technology', 'Healthcare', 'Finance']  # 업종 리스트\n",
    "\n",
    "# 각 회사에 대한 고정된 업종 리스트 생성\n",
    "company_industries = [np.random.choice(industries) for _ in range(num_companies)]  # 각 회사의 업종을 무작위로 할당\n",
    "\n",
    "# 날짜 생성 (2021-01 ~ 2024-09)\n",
    "dates = pd.date_range(start=\"2020-01-01\", end=\"2024-09-01\", freq='MS').strftime(\"%Y-%m\").tolist()  # 월별 날짜 리스트 생성\n",
    "\n",
    "# 기본 정보 데이터 생성 함수 정의\n",
    "def generate_basic_data(company, industry, date):\n",
    "    base_asset_value = 30000  # 기본 총자산 값 설정\n",
    "    total_assets = round(base_asset_value * (1 + np.random.normal(0, 0.05)), 0)  # 기본 총자산 값에서 5% 변동 (정규분포 이용, 소수점 없이)\n",
    "    revenue = round(np.random.uniform(1000, 10000), 0)  # 1천만원 ~ 1억원 사이의 매출액 값 설정 (소수점 없이)\n",
    "    operating_profit = round(revenue * np.random.uniform(-0.2, 0.2), 0)  # 영업이익 = 매출액의 -20%~20%로 계산 (소수점 없이)\n",
    "    net_income = round(operating_profit * np.random.uniform(-0.5, 0.8), 0)  # 당기순이익 = 영업이익의 -50%~80%로 계산 (소수점 없이)\n",
    "    short_term_loans = round(np.random.uniform(500, 5000), 0)  # 단기차입금 (500만원 ~ 5000만원 사이, 소수점 없이)\n",
    "    long_term_loans = round(np.random.uniform(1000, 10000), 0)  # 장기차입금 (1000만원 ~ 1억원 사이, 소수점 없이)\n",
    "    total_loans = short_term_loans + long_term_loans  # 총 차입금 계산\n",
    "    loan_to_sales = round((total_loans / revenue) * 100, 2)  # 매출대비차입금 비율\n",
    "    working_capital_turnover = round(np.random.uniform(1, 5), 2)  # 운전자금회전율 (1~5회)\n",
    "    operating_cash_flow = round(np.random.uniform(500, 5000), 0)  # 영업활동현금흐름 (500만원 ~ 5000만원 사이, 소수점 없이)\n",
    "    net_cash_flow = round(operating_cash_flow - total_loans, 0)  # 순현금흐름 (영업활동현금흐름 - 총 차입금, 소수점 없이)\n",
    "    ar_balance = round(np.random.uniform(1000, 5000), 0)  # 월별 매출채권 규모 (1000만원 ~ 5000만원, 소수점 없이)\n",
    "    ar_collection_period = round(np.random.uniform(30, 90), 0)  # 월별 매출채권 회수기일 (30일 ~ 90일, 소수점 없이)\n",
    "    ap_balance = round(np.random.uniform(800, 4000), 0)  # 월별 매입채무 규모 (800만원 ~ 4000만원, 소수점 없이)\n",
    "    ap_payment_period = round(np.random.uniform(20, 80), 0)  # 월별 매입채무 회수기일 (20일 ~ 80일, 소수점 없이)\n",
    "    \n",
    "    return {\n",
    "        '기업명': company,\n",
    "        '업종': industry,\n",
    "        '날짜': date,\n",
    "        # 성장성\n",
    "        '매출액증가율': round(np.random.uniform(5, 15), 2),  # 5~15% 사이의 매출액증가율 값\n",
    "        '총자산증가율': round(np.random.uniform(3, 10), 2),  # 3~10% 사이의 총자산증가율 값\n",
    "        '총자산': int(total_assets),  # 소수점 없이 월별 정수형 총자산 값\n",
    "        '매출액': int(revenue),  # 소수점 없이 정수형 월별 매출액 값\n",
    "        # 수익성\n",
    "        '영업이익': int(operating_profit),  # 영업이익 추가 (정수형)\n",
    "        '영업이익률': round(operating_profit / revenue * 100, 2) if revenue != 0 else round(np.random.uniform(-20, 20), 2),  # 영업이익률 추가 (음수 가능)\n",
    "        '당기순이익': int(net_income),  # 당기순이익 추가 (정수형)\n",
    "        '당기순이익률': round(net_income / revenue * 100, 2) if revenue != 0 else round(np.random.uniform(-30, 30), 2),  # 당기순이익률 추가 (음수 가능)\n",
    "        # 재무 안정성\n",
    "        '단기차입금': int(short_term_loans),  # 단기차입금 추가\n",
    "        '장기차입금': int(long_term_loans),  # 장기차입금 추가\n",
    "        '매출대비차입금': loan_to_sales,  # 매출대비차입금 비율 추가\n",
    "        '운전자금회전율': working_capital_turnover,  # 운전자금회전율 추가\n",
    "        # 인적 관리\n",
    "        '인원수': np.random.randint(50, 300),  # 50~300명 사이의 임직원 수 설정\n",
    "        '월평균급여액': round(np.random.uniform(200, 500), 1),  # 200~500만원 사이의 월평균 급여액 (소수점 없이)\n",
    "        '월매출창출액': round(np.random.uniform(5000, 20000), 1),  # 5000~20000만원 사이의 월 매출 창출액 (소수점 없이)\n",
    "        # 현금흐름\n",
    "        '영업활동현금흐름/매출액': round(np.random.uniform(0.05, 0.2), 2),  # 5~20% 사이의 영업활동현금흐름/매출액 비율\n",
    "        '영업활동현금흐름': int(operating_cash_flow),  # 영업활동현금흐름 추가\n",
    "        '순현금흐름': int(net_cash_flow),  # 순현금흐름 추가\n",
    "        # 거래처 안정성\n",
    "        '월별_매출채권_규모': int(ar_balance),  # 월별 매출채권 규모\n",
    "        '월별_매출채권_회수기일': int(ar_collection_period),  # 월별 매출채권 회수기일\n",
    "        '월별_매입채무_규모': int(ap_balance),  # 월별 매입채무 규모\n",
    "        '월별_매입채무_회수기일': int(ap_payment_period),  # 월별 매입채무 회수기일\n",
    "    }\n",
    "\n",
    "# 기본 정보 데이터 생성\n",
    "basic_data = [\n",
    "    generate_basic_data(company, industry, date)  # 각 회사와 날짜별로 기본 정보를 생성\n",
    "    for company, industry in zip(company_names, company_industries)\n",
    "    for date in dates\n",
    "]\n",
    "\n",
    "# 기본 정보 데이터프레임 생성\n",
    "df_company_info = pd.DataFrame(basic_data)  # 회사 기본 정보로 데이터프레임 생성\n",
    "\n",
    "# 데이터프레임 출력\n",
    "print(df_company_info)\n",
    "\n",
    "# 거래처 정보 데이터 생성 함수 정의\n",
    "def generate_partner_data(company, date):\n",
    "    # 상위 5개 매출처 및 매입처 정보 무작위로 생성\n",
    "    sales_companies = list(np.random.choice(sales_partner_pool, 5, replace=False))\n",
    "    purchase_companies = list(np.random.choice(purchase_partner_pool, 5, replace=False))\n",
    "\n",
    "    # 각 매출처 및 매입처의 신용등급을 무작위로 선택\n",
    "    sales_grades = list(np.random.choice(['AAA', 'AA+', 'AA', 'A+', 'A', 'BBB+', 'BBB', 'BB', 'B', 'CCC-'], 5, replace=False))\n",
    "    purchase_grades = list(np.random.choice(['AAA', 'AA+', 'AA', 'A+', 'A', 'BBB+', 'BBB', 'BB', 'B', 'CCC-'], 5, replace=False))\n",
    "\n",
    "    # 매출처 및 매입처의 집중도를 Dirichlet 분포를 이용해 생성하고, 총합이 100%가 되도록 정규화\n",
    "    sales_concentrations = list(np.round(np.random.dirichlet(np.ones(5), 1)[0] * 100, 2))\n",
    "    sales_concentrations = list(np.round(np.array(sales_concentrations) / sum(sales_concentrations) * 100, 2))\n",
    "\n",
    "    purchase_concentrations = list(np.round(np.random.dirichlet(np.ones(5), 1)[0] * 100, 2))\n",
    "    purchase_concentrations = list(np.round(np.array(purchase_concentrations) / sum(purchase_concentrations) * 100, 2))\n",
    "\n",
    "    # 매출처 및 매입처 정보 반환 (각 회사 당 5개)\n",
    "    return [\n",
    "        {\n",
    "            '기업명': company,\n",
    "            '날짜': date,\n",
    "            '매출처_회사명': sales_companies[i],\n",
    "            '매출처_신용등급': sales_grades[i],\n",
    "            '매출처_집중도': sales_concentrations[i],\n",
    "            '매입처_회사명': purchase_companies[i],\n",
    "            '매입처_신용등급': purchase_grades[i],\n",
    "            '매입처_집중도': purchase_concentrations[i]\n",
    "        }\n",
    "        for i in range(5)\n",
    "    ]\n",
    "\n",
    "# 회사명 리스트에서 중복을 최소화하며 선택할 수 있도록 셋 생성\n",
    "sales_partner_pool = list(set(f'SalesPartner_{i+1}' for i in range(200)))  # 매출처 Pool 생성 (200개)\n",
    "purchase_partner_pool = list(set(f'PurchasePartner_{i+1}' for i in range(200)))  # 매입처 Pool 생성 (200개)\n",
    "\n",
    "# 거래처 정보 데이터 생성\n",
    "partner_data = [\n",
    "    partner  # 각 회사와 날짜별로 거래처 정보 생성\n",
    "    for company in company_names\n",
    "    for date in dates\n",
    "    for partner in generate_partner_data(company, date)\n",
    "]\n",
    "\n",
    "# 거래처 정보 데이터프레임 생성\n",
    "df_partner_info = pd.DataFrame(partner_data)  # 거래처 정보로 데이터프레임 생성\n",
    "\n",
    "# 샘플 출력\n",
    "print(df_company_info.head())  # 회사 기본 정보 샘플 출력\n",
    "print(df_partner_info.head())  # 거래처 정보 샘플 출력"
   ]
  },
  {
   "cell_type": "code",
   "execution_count": 7,
   "metadata": {},
   "outputs": [],
   "source": [
    "sample = df_company_info[df_company_info['기업명']== 'Company_1']"
   ]
  },
  {
   "cell_type": "code",
   "execution_count": 47,
   "metadata": {},
   "outputs": [
    {
     "name": "stdout",
     "output_type": "stream",
     "text": [
      "{'latest_year_month': '2024-09',\n",
      " 'recent_data': {'2023-09': {'누적 매출액증가율': -20.33,\n",
      "                             '매출액': 2846,\n",
      "                             '매출액증가율': 36.96,\n",
      "                             '전년 동월 매출액': 2078,\n",
      "                             '전년동월 누적 매출액': 76199,\n",
      "                             '최근 12개월 누적 매출액': 60711},\n",
      "                 '2023-10': {'누적 매출액증가율': -24.07,\n",
      "                             '매출액': 3451,\n",
      "                             '매출액증가율': -37.07,\n",
      "                             '전년 동월 매출액': 5484,\n",
      "                             '전년동월 누적 매출액': 77281,\n",
      "                             '최근 12개월 누적 매출액': 58678},\n",
      "                 '2023-11': {'누적 매출액증가율': -30.53,\n",
      "                             '매출액': 3189,\n",
      "                             '매출액증가율': -63.72,\n",
      "                             '전년 동월 매출액': 8790,\n",
      "                             '전년동월 누적 매출액': 76402,\n",
      "                             '최근 12개월 누적 매출액': 53077},\n",
      "                 '2023-12': {'누적 매출액증가율': -29.1,\n",
      "                             '매출액': 9196,\n",
      "                             '매출액증가율': 16.26,\n",
      "                             '전년 동월 매출액': 7910,\n",
      "                             '전년동월 누적 매출액': 76678,\n",
      "                             '최근 12개월 누적 매출액': 54363},\n",
      "                 '2024-01': {'누적 매출액증가율': -25.26,\n",
      "                             '매출액': 4827,\n",
      "                             '매출액증가율': 16.59,\n",
      "                             '전년 동월 매출액': 4140,\n",
      "                             '전년동월 누적 매출액': 73655,\n",
      "                             '최근 12개월 누적 매출액': 55050},\n",
      "                 '2024-02': {'누적 매출액증가율': -21.3,\n",
      "                             '매출액': 1605,\n",
      "                             '매출액증가율': -40.07,\n",
      "                             '전년 동월 매출액': 2678,\n",
      "                             '전년동월 누적 매출액': 68587,\n",
      "                             '최근 12개월 누적 매출액': 53977},\n",
      "                 '2024-03': {'누적 매출액증가율': -26.36,\n",
      "                             '매출액': 6428,\n",
      "                             '매출액증가율': -2.87,\n",
      "                             '전년 동월 매출액': 6618,\n",
      "                             '전년동월 누적 매출액': 73043,\n",
      "                             '최근 12개월 누적 매출액': 53787},\n",
      "                 '2024-04': {'누적 매출액증가율': -25.87,\n",
      "                             '매출액': 8618,\n",
      "                             '매출액증가율': 16.04,\n",
      "                             '전년 동월 매출액': 7427,\n",
      "                             '전년동월 누적 매출액': 74160,\n",
      "                             '최근 12개월 누적 매출액': 54978},\n",
      "                 '2024-05': {'누적 매출액증가율': -9.46,\n",
      "                             '매출액': 9256,\n",
      "                             '매출액증가율': 251.4,\n",
      "                             '전년 동월 매출액': 2634,\n",
      "                             '전년동월 누적 매출액': 68033,\n",
      "                             '최근 12개월 누적 매출액': 61600},\n",
      "                 '2024-06': {'누적 매출액증가율': -8.65,\n",
      "                             '매출액': 7029,\n",
      "                             '매출액증가율': 2.43,\n",
      "                             '전년 동월 매출액': 6862,\n",
      "                             '전년동월 누적 매출액': 67616,\n",
      "                             '최근 12개월 누적 매출액': 61767},\n",
      "                 '2024-07': {'누적 매출액증가율': -7.12,\n",
      "                             '매출액': 2085,\n",
      "                             '매출액증가율': -48.1,\n",
      "                             '전년 동월 매출액': 4017,\n",
      "                             '전년동월 누적 매출액': 64419,\n",
      "                             '최근 12개월 누적 매출액': 59835},\n",
      "                 '2024-08': {'누적 매출액증가율': -0.69,\n",
      "                             '매출액': 1002,\n",
      "                             '매출액증가율': -23.22,\n",
      "                             '전년 동월 매출액': 1305,\n",
      "                             '전년동월 누적 매출액': 59943,\n",
      "                             '최근 12개월 누적 매출액': 59532}},\n",
      " 'year_level_data': {'2021년': {'매출액': 72399, '총자산': 30687},\n",
      "                     '2022년': {'매출액': 76678, '총자산': 29873},\n",
      "                     '2023년': {'매출액': 54363, '총자산': 29656},\n",
      "                     '2024년(E)': {'매출액': 61275, '총자산': 29669}},\n",
      " 'year_rate_data': {'2021년': {'매출액증가율': 21.16, '총자산증가율': -5.99},\n",
      "                    '2022년': {'매출액증가율': 5.91, '총자산증가율': -2.65},\n",
      "                    '2023년': {'매출액증가율': -29.1, '총자산증가율': -0.73},\n",
      "                    '2024년(E)': {'매출액증가율': 12.71, '총자산증가율': 0.04}}}\n"
     ]
    }
   ],
   "source": [
    "import pandas as pd\n",
    "import numpy as np\n",
    "import pprint # 출력 예시\n",
    "\n",
    "# 재현성을 위한 Random seed 설정\n",
    "np.random.seed(42)\n",
    "\n",
    "\n",
    "def preprocess_growth_data(df_company_info):\n",
    "    \"\"\"\n",
    "    성장성 지표 데이터를 전처리하여 필요한 JSON 형식의 구조로 변환하는 함수.\n",
    "    \n",
    "    Args:\n",
    "        df_company_info (DataFrame): 회사 재무 정보 데이터프레임\n",
    "    \n",
    "    Returns:\n",
    "        dict: 전처리된 성장성 지표 데이터 (JSON 형태)\n",
    "    \"\"\"\n",
    "    # 최신 년월 추출: 데이터프레임에서 가장 최신의 '날짜' 값을 가져옴\n",
    "    latest_year_month = df_company_info['날짜'].max()\n",
    "    latest_year = int(latest_year_month.split('-')[0])  # 최신 년도 추출\n",
    "    latest_month = int(latest_year_month.split('-')[1])  # 최신 월 추출\n",
    "\n",
    "    # 결과를 저장할 데이터 딕셔너리 정의\n",
    "    growth_data = {\n",
    "        'latest_year_month': latest_year_month,  # 최신 년월 기록\n",
    "        'year_level_data': {},  # 연간 수준 데이터\n",
    "        'year_rate_data': {},  # 연간 증가율 데이터\n",
    "        'recent_data': {}  # 최근 12개월 데이터\n",
    "    }\n",
    "\n",
    "    # 'year_level_data' 및 'year_rate_data'에 대해 과거 데이터를 추출\n",
    "    num_years = 3  # 추출할 과거 연도의 수, 필요에 따라 변경 가능\n",
    "    for year_offset in range(1, num_years + 1):\n",
    "        target_year = latest_year - year_offset\n",
    "        year_key = f\"{target_year}년\"\n",
    "        december_date = f\"{target_year}-12\"\n",
    "        \n",
    "        # 해당 년도 12월의 데이터를 필터링\n",
    "        december_data = df_company_info[df_company_info['날짜'] == december_date]\n",
    "        annual_data = df_company_info[df_company_info['날짜'].str.startswith(f\"{target_year}\")]\n",
    "        \n",
    "        # 12월 데이터와 연간 데이터를 모두 사용할 수 있는 경우\n",
    "        if not december_data.empty and not annual_data.empty:\n",
    "            # '성장성' 지표 계산\n",
    "            total_assets = int(round(december_data.at[december_data.index[0], '총자산']))  # 해당 연도의 총자산 (12월 기준)\n",
    "            revenue = int(round(annual_data['매출액'].sum()))  # 해당 연도의 전체 매출액의 합계\n",
    "            \n",
    "            # 총자산증가율 계산: 이전 연도의 총자산 데이터가 있을 때만\n",
    "            if year_offset <= num_years:\n",
    "                prev_year_december_date = f\"{target_year - 1}-12\"\n",
    "                prev_december_data = df_company_info[df_company_info['날짜'] == prev_year_december_date]\n",
    "                if not prev_december_data.empty:\n",
    "                    prev_total_assets = prev_december_data.at[prev_december_data.index[0], '총자산']\n",
    "                    asset_growth_rate = round(((total_assets - prev_total_assets) / prev_total_assets) * 100, 2)\n",
    "                else:\n",
    "                    asset_growth_rate = 0\n",
    "            else:\n",
    "                asset_growth_rate = 0\n",
    "\n",
    "            # 매출액증가율 계산: 이전 연도의 매출 데이터가 있을 때만\n",
    "            if year_offset <= num_years:\n",
    "                prev_annual_data = df_company_info[df_company_info['날짜'].str.startswith(f\"{target_year - 1}\")]\n",
    "                if not prev_annual_data.empty:\n",
    "                    prev_revenue = prev_annual_data['매출액'].sum()\n",
    "                    if prev_revenue != 0:\n",
    "                        revenue_growth_rate = round(((revenue - prev_revenue) / prev_revenue) * 100, 2)\n",
    "                    else:\n",
    "                        revenue_growth_rate = 0  # prev_revenue가 0인 경우 증가율을 0으로 설정\n",
    "                else:\n",
    "                    revenue_growth_rate = 0\n",
    "            else:\n",
    "                revenue_growth_rate = 0\n",
    "            \n",
    "            # 연도별 데이터 딕셔너리에 추가\n",
    "            growth_data['year_level_data'][year_key] = {\n",
    "                '총자산': total_assets,\n",
    "                '매출액': revenue\n",
    "            }\n",
    "            growth_data['year_rate_data'][year_key] = {\n",
    "                '총자산증가율': asset_growth_rate,\n",
    "                '매출액증가율': revenue_growth_rate\n",
    "            }\n",
    "        else:\n",
    "            # 데이터가 없는 경우 기본 값 추가\n",
    "            growth_data['year_level_data'][year_key] = {\n",
    "                '총자산': 0,\n",
    "                '매출액': 0\n",
    "            }\n",
    "            growth_data['year_rate_data'][year_key] = {\n",
    "                '총자산증가율': 0,\n",
    "                '매출액증가율': 0\n",
    "            }\n",
    "\n",
    "    # 최신 년월의 데이터도 추가 ('연말 예상'으로 표시, 매출액은 연환산)\n",
    "    estimate_key = f\"{latest_year}년(E)\"  # '연말 예상'을 나타내는 키 추가\n",
    "    # 직전 월의 데이터가 없는 경우, 존재하는 가장 최근의 데이터로 이동\n",
    "    max_iterations = 12  # 최대 반복 횟수 설정\n",
    "    iteration_count = 0\n",
    "    previous_year_month = pd.to_datetime(latest_year_month) - pd.DateOffset(months=1)\n",
    "    while previous_year_month.strftime(\"%Y-%m\") not in df_company_info['날짜'].values:\n",
    "        previous_year_month -= pd.DateOffset(months=1)\n",
    "        iteration_count += 1\n",
    "        if iteration_count >= max_iterations:\n",
    "            raise ValueError(\"Exceeded maximum iterations while searching for previous month data.\")\n",
    "    previous_month_str = previous_year_month.strftime(\"%Y-%m\")\n",
    "    latest_data = df_company_info[df_company_info['날짜'] == previous_month_str]\n",
    "    cumulative_data = df_company_info[(pd.to_datetime(df_company_info['날짜']) >= pd.to_datetime(f\"{latest_year}-01\")) & (pd.to_datetime(df_company_info['날짜']) < pd.to_datetime(latest_year_month))]\n",
    "\n",
    "    # 최신 데이터를 바탕으로 '연말 예상' 데이터 계산\n",
    "    if not latest_data.empty and not cumulative_data.empty:\n",
    "        # 누적 총자산과 매출액을 이용하여 연환산 계산\n",
    "        cumulative_total_assets = cumulative_data['총자산'].sum()\n",
    "        total_assets = int(round((cumulative_total_assets / previous_year_month.month)))  # 누적 총자산을 월수로 나누고 12를 곱해 연환산\n",
    "        cumulative_revenue = cumulative_data['매출액'].sum()\n",
    "        revenue = int(round((cumulative_revenue / previous_year_month.month) * 12))  # 누적 매출액을 월수로 나누고 12를 곱해 연환산\n",
    "\n",
    "        # 총자산증가율 계산 (직전 년도 12월 대비)\n",
    "        prev_year_december_date = f\"{latest_year - 1}-12\"\n",
    "        prev_december_data = df_company_info[df_company_info['날짜'] == prev_year_december_date]\n",
    "        if not prev_december_data.empty:\n",
    "            prev_total_assets = prev_december_data.at[prev_december_data.index[0], '총자산']\n",
    "            asset_growth_rate = round(((total_assets - prev_total_assets) / prev_total_assets) * 100, 2)\n",
    "        else:\n",
    "            asset_growth_rate = 0\n",
    "\n",
    "        # 매출액증가율 계산 (전년도 누적 매출액 대비)\n",
    "        prev_annual_data = df_company_info[df_company_info['날짜'].str.startswith(f\"{latest_year - 1}\")]\n",
    "        if not prev_annual_data.empty:\n",
    "            prev_revenue = prev_annual_data['매출액'].sum()\n",
    "            if prev_revenue != 0:\n",
    "                revenue_growth_rate = round(((revenue - prev_revenue) / prev_revenue) * 100, 2)\n",
    "            else:\n",
    "                revenue_growth_rate = 0  # prev_revenue가 0인 경우 증가율을 0으로 설정\n",
    "        else:\n",
    "            revenue_growth_rate = 0\n",
    "        \n",
    "        # 데이터 추가\n",
    "        growth_data['year_level_data'][estimate_key] = {\n",
    "            '총자산': total_assets,\n",
    "            '매출액': revenue\n",
    "        }\n",
    "        growth_data['year_rate_data'][estimate_key] = {\n",
    "            '총자산증가율': asset_growth_rate,\n",
    "            '매출액증가율': revenue_growth_rate\n",
    "        }\n",
    "    else:\n",
    "        # 데이터가 없는 경우 기본 값 추가\n",
    "        growth_data['year_level_data'][estimate_key] = {\n",
    "            '총자산': 0,\n",
    "            '매출액': 0\n",
    "        }\n",
    "        growth_data['year_rate_data'][estimate_key] = {\n",
    "            '총자산증가율': 0,\n",
    "            '매출액증가율': 0\n",
    "        }\n",
    "\n",
    "    # 'recent_data'에 대해 최신 년월 기준으로 지난 12개월 데이터를 추출\n",
    "    past_12_months = pd.date_range(end=latest_year_month, periods=12, freq='ME').strftime(\"%Y-%m\").tolist()\n",
    "    for month in past_12_months:\n",
    "        # 해당 월의 데이터를 필터링\n",
    "        monthly_data = df_company_info[df_company_info['날짜'] == month]\n",
    "        prev_year_month = (pd.to_datetime(month) - pd.DateOffset(years=1)).strftime(\"%Y-%m\")\n",
    "        prev_monthly_data = df_company_info[df_company_info['날짜'] == prev_year_month]\n",
    "        recent_12_months_data = df_company_info[(pd.to_datetime(df_company_info['날짜']) <= pd.to_datetime(month)) & (pd.to_datetime(df_company_info['날짜']) > (pd.to_datetime(month) - pd.DateOffset(months=12)))]\n",
    "        prev_recent_12_months_data = df_company_info[(pd.to_datetime(df_company_info['날짜']) <= pd.to_datetime(prev_year_month)) & (pd.to_datetime(df_company_info['날짜']) > (pd.to_datetime(prev_year_month) - pd.DateOffset(months=12)))]\n",
    "\n",
    "        if not monthly_data.empty:\n",
    "            # '성장성' 지표 추출\n",
    "            revenue = int(round(monthly_data.at[monthly_data.index[0], '매출액']))  # 매출액 (연환산하지 않음)\n",
    "            prev_revenue = int(round(prev_monthly_data.at[prev_monthly_data.index[0], '매출액'])) if not prev_monthly_data.empty else 0  # 전년 동월 매출액\n",
    "            revenue_growth_rate = round(((revenue - prev_revenue) / prev_revenue) * 100, 2) if prev_revenue != 0 else 0\n",
    "            recent_12_months_revenue = int(round(recent_12_months_data['매출액'].sum()))  # 최근 12개월 누적 매출액\n",
    "            prev_12_months_revenue = int(round(prev_recent_12_months_data['매출액'].sum()))  # 전년 동월 기준 전년 동월 누적 매출액\n",
    "            cumulative_growth_rate = round(((recent_12_months_revenue - prev_12_months_revenue) / prev_12_months_revenue) * 100, 2) if prev_12_months_revenue != 0 else 0\n",
    "            \n",
    "            growth_data['recent_data'][month] = {\n",
    "                '매출액': revenue,\n",
    "                '전년동월 매출액': prev_revenue,\n",
    "                '매출액증가율': revenue_growth_rate,\n",
    "                '최근12개월 누적 매출액': recent_12_months_revenue,\n",
    "                '전년동월 누적 매출액': prev_12_months_revenue,\n",
    "                '누적 매출액증가율': cumulative_growth_rate\n",
    "            }\n",
    "        else:\n",
    "            # 빈 데이터일 경우 기본 값 추가 (예: 0으로 설정)\n",
    "            growth_data['recent_data'][month] = {\n",
    "                '매출액': 0,\n",
    "                '전년동월 매출액': 0,\n",
    "                '매출액증가율': 0,\n",
    "                '최근12개월 누적 매출액': 0,\n",
    "                '전년동월 누적 매출액': 0,\n",
    "                '누적 매출액증가율': 0\n",
    "            }\n",
    "    \n",
    "    return growth_data\n",
    "\n",
    "\n",
    "pprint.pprint(preprocess_growth_data(df_company_info[df_company_info['기업명'] == 'Company_1']))"
   ]
  },
  {
   "cell_type": "code",
   "execution_count": 92,
   "metadata": {},
   "outputs": [
    {
     "name": "stdout",
     "output_type": "stream",
     "text": [
      "{'latest_year_month': '2024-09',\n",
      " 'recent_data': {'2023-09': {'누적 영업이익증가율': -104.23,\n",
      "                             '영업이익': -352,\n",
      "                             '영업이익증가율': -208.31,\n",
      "                             '전년동월 누적 영업이익': -1065,\n",
      "                             '전년동월 영업이익': 325,\n",
      "                             '최근12개월 누적 영업이익': 45},\n",
      "                 '2023-10': {'누적 영업이익증가율': -153.73,\n",
      "                             '영업이익': 549,\n",
      "                             '영업이익증가율': -247.58,\n",
      "                             '전년동월 누적 영업이익': -1798,\n",
      "                             '전년동월 영업이익': -372,\n",
      "                             '최근12개월 누적 영업이익': 966},\n",
      "                 '2023-11': {'누적 영업이익증가율': -88.79,\n",
      "                             '영업이익': 284,\n",
      "                             '영업이익증가율': -74.53,\n",
      "                             '전년동월 누적 영업이익': 1204,\n",
      "                             '전년동월 영업이익': 1115,\n",
      "                             '최근12개월 누적 영업이익': 135},\n",
      "                 '2023-12': {'누적 영업이익증가율': -238.69,\n",
      "                             '영업이익': 459,\n",
      "                             '영업이익증가율': -135.15,\n",
      "                             '전년동월 누적 영업이익': -1370,\n",
      "                             '전년동월 영업이익': -1306,\n",
      "                             '최근12개월 누적 영업이익': 1900},\n",
      "                 '2024-01': {'누적 영업이익증가율': -13.31,\n",
      "                             '영업이익': -922,\n",
      "                             '영업이익증가율': -229.68,\n",
      "                             '전년동월 누적 영업이익': 308,\n",
      "                             '전년동월 영업이익': 711,\n",
      "                             '최근12개월 누적 영업이익': 267},\n",
      "                 '2024-02': {'누적 영업이익증가율': 36.97,\n",
      "                             '영업이익': -61,\n",
      "                             '영업이익증가율': -78.45,\n",
      "                             '전년동월 누적 영업이익': 357,\n",
      "                             '전년동월 영업이익': -283,\n",
      "                             '최근12개월 누적 영업이익': 489},\n",
      "                 '2024-03': {'누적 영업이익증가율': -180.76,\n",
      "                             '영업이익': -655,\n",
      "                             '영업이익증가율': -35.4,\n",
      "                             '전년동월 누적 영업이익': -1050,\n",
      "                             '전년동월 영업이익': -1014,\n",
      "                             '최근12개월 누적 영업이익': 848},\n",
      "                 '2024-04': {'누적 영업이익증가율': -339.19,\n",
      "                             '영업이익': 1569,\n",
      "                             '영업이익증가율': -8816.67,\n",
      "                             '전년동월 누적 영업이익': -1018,\n",
      "                             '전년동월 영업이익': -18,\n",
      "                             '최근12개월 누적 영업이익': 2435},\n",
      "                 '2024-05': {'누적 영업이익증가율': -130.51,\n",
      "                             '영업이익': -1345,\n",
      "                             '영업이익증가율': -412.79,\n",
      "                             '전년동월 누적 영업이익': -2163,\n",
      "                             '전년동월 영업이익': 430,\n",
      "                             '최근12개월 누적 영업이익': 660},\n",
      "                 '2024-06': {'누적 영업이익증가율': 181.28,\n",
      "                             '영업이익': -1282,\n",
      "                             '영업이익증가율': -272.08,\n",
      "                             '전년동월 누적 영업이익': -486,\n",
      "                             '전년동월 영업이익': 745,\n",
      "                             '최근12개월 누적 영업이익': -1367},\n",
      "                 '2024-07': {'누적 영업이익증가율': -265.94,\n",
      "                             '영업이익': -353,\n",
      "                             '영업이익증가율': -172.48,\n",
      "                             '전년동월 누적 영업이익': 1330,\n",
      "                             '전년동월 영업이익': 487,\n",
      "                             '최근12개월 누적 영업이익': -2207},\n",
      "                 '2024-08': {'누적 영업이익증가율': -409.56,\n",
      "                             '영업이익': -126,\n",
      "                             '영업이익증가율': 28.57,\n",
      "                             '전년동월 누적 영업이익': 722,\n",
      "                             '전년동월 영업이익': -98,\n",
      "                             '최근12개월 누적 영업이익': -2235}},\n",
      " 'year_level_data': {'2021년': {'당기순이익': -2184, '영업이익': -1608},\n",
      "                     '2022년': {'당기순이익': -3106, '영업이익': -1370},\n",
      "                     '2023년': {'당기순이익': -206, '영업이익': 1900},\n",
      "                     '2024년(E)': {'당기순이익': -2721, '영업이익': -4762}},\n",
      " 'year_rate_data': {'2021년': {'당기순이익률': -3.02, '영업이익률': -2.22},\n",
      "                    '2022년': {'당기순이익률': -4.05, '영업이익률': -1.79},\n",
      "                    '2023년': {'당기순이익률': -0.38, '영업이익률': 3.5},\n",
      "                    '2024년(E)': {'당기순이익률': -6.66, '영업이익률': -11.66}}}\n"
     ]
    }
   ],
   "source": [
    "def preprocess_profitability_data(df_company_info):\n",
    "    \"\"\"\n",
    "    수익성 지표 데이터를 전처리하여 필요한 JSON 형식의 구조로 변환하는 함수.\n",
    "\n",
    "    Args:\n",
    "        df_company_info (DataFrame): 회사 재무 정보 데이터프레임\n",
    "\n",
    "    Returns:\n",
    "        dict: 전처리된 수익성 지표 데이터 (JSON 형태)\n",
    "    \"\"\"\n",
    "    # 최신 년월 추출: 데이터프레임에서 가장 최신의 '날짜' 값을 가져옴\n",
    "    latest_year_month = df_company_info['날짜'].max()\n",
    "    latest_year = int(latest_year_month.split('-')[0])  # 최신 년도 추출\n",
    "    latest_month = int(latest_year_month.split('-')[1])  # 최신 월 추출\n",
    "\n",
    "    # 결과를 저장할 데이터 딕셔너리 정의\n",
    "    profitability_data = {\n",
    "        'latest_year_month': latest_year_month,  # 최신 년월 기록\n",
    "        'year_level_data': {},  # 연간 수준 데이터\n",
    "        'year_rate_data': {},  # 연간 증가율 데이터\n",
    "        'recent_data': {}  # 최근 12개월 데이터\n",
    "    }\n",
    "\n",
    "    # 'year_level_data' 및 'year_rate_data'에 대해 과거 데이터를 추출\n",
    "    num_years = 3  # 추출할 과거 연도의 수, 필요에 따라 변경 가능\n",
    "    for year_offset in range(1, num_years + 1):\n",
    "        target_year = latest_year - year_offset\n",
    "        year_key = f\"{target_year}년\"\n",
    "        annual_data = df_company_info[df_company_info['날짜'].str.startswith(f\"{target_year}\")]\n",
    "\n",
    "        # 연간 데이터를 사용할 수 있는 경우\n",
    "        if not annual_data.empty:\n",
    "            # '수익성' 지표 계산\n",
    "            operating_profit = int(round(annual_data['영업이익'].sum()))  # 해당 연도의 전체 영업이익의 합계\n",
    "            net_profit = int(round(annual_data['당기순이익'].sum()))  # 해당 연도의 전체 당기순이익의 합계\n",
    "            revenue = annual_data['매출액'].sum()  # 해당 연도의 매출액 합계\n",
    "\n",
    "            # 영업이익률과 당기순이익률 계산: 매출액이 있어야 계산 가능\n",
    "            if revenue != 0:\n",
    "                operating_profit_margin = round((operating_profit / revenue) * 100, 2)\n",
    "                net_profit_margin = round((net_profit / revenue) * 100, 2)\n",
    "            else:\n",
    "                operating_profit_margin = 0\n",
    "                net_profit_margin = 0\n",
    "\n",
    "            # 연도별 데이터 딕셔너리에 추가\n",
    "            profitability_data['year_level_data'][year_key] = {\n",
    "                '영업이익': operating_profit,\n",
    "                '당기순이익': net_profit\n",
    "            }\n",
    "            profitability_data['year_rate_data'][year_key] = {\n",
    "                '영업이익률': operating_profit_margin,\n",
    "                '당기순이익률': net_profit_margin\n",
    "            }\n",
    "        else:\n",
    "            # 데이터가 없는 경우 기본 값 추가\n",
    "            profitability_data['year_level_data'][year_key] = {\n",
    "                '영업이익': 0,\n",
    "                '당기순이익': 0\n",
    "            }\n",
    "            profitability_data['year_rate_data'][year_key] = {\n",
    "                '영업이익률': 0,\n",
    "                '당기순이익률': 0\n",
    "            }\n",
    "\n",
    "    # 최신 년월의 데이터도 추가 ('연말 예상'으로 표시, 연환산 계산)\n",
    "    estimate_key = f\"{latest_year}년(E)\"  # '연말 예상'을 나타내는 키 추가\n",
    "    max_iterations = 12  # 최대 반복 횟수 설정\n",
    "    iteration_count = 0\n",
    "    previous_year_month = pd.to_datetime(latest_year_month) - pd.DateOffset(months=1)\n",
    "    while previous_year_month.strftime(\"%Y-%m\") not in df_company_info['날짜'].values:\n",
    "        previous_year_month -= pd.DateOffset(months=1)\n",
    "        iteration_count += 1\n",
    "        if iteration_count >= max_iterations:\n",
    "            raise ValueError(\"Exceeded maximum iterations while searching for previous month data.\")\n",
    "\n",
    "    previous_month_str = previous_year_month.strftime(\"%Y-%m\")\n",
    "    latest_data = df_company_info[df_company_info['날짜'] == previous_month_str]\n",
    "    cumulative_data = df_company_info[(pd.to_datetime(df_company_info['날짜']) >= pd.to_datetime(f\"{latest_year}-01\")) & (pd.to_datetime(df_company_info['날짜']) < pd.to_datetime(latest_year_month))]\n",
    "\n",
    "    if not latest_data.empty and not cumulative_data.empty:\n",
    "        cumulative_operating_profit = cumulative_data['영업이익'].sum()\n",
    "        cumulative_net_profit = cumulative_data['당기순이익'].sum()\n",
    "        revenue = cumulative_data['매출액'].sum()\n",
    "\n",
    "        operating_profit = int(round((cumulative_operating_profit / previous_year_month.month) * 12))\n",
    "        net_profit = int(round((cumulative_net_profit / previous_year_month.month) * 12))\n",
    "\n",
    "        if revenue != 0:\n",
    "            operating_profit_margin = round((operating_profit / revenue) * 100, 2)\n",
    "            net_profit_margin = round((net_profit / revenue) * 100, 2)\n",
    "        else:\n",
    "            operating_profit_margin = 0\n",
    "            net_profit_margin = 0\n",
    "\n",
    "        # 데이터 추가\n",
    "        profitability_data['year_level_data'][estimate_key] = {\n",
    "            '영업이익': operating_profit,\n",
    "            '당기순이익': net_profit\n",
    "        }\n",
    "        profitability_data['year_rate_data'][estimate_key] = {\n",
    "            '영업이익률': operating_profit_margin,\n",
    "            '당기순이익률': net_profit_margin\n",
    "        }\n",
    "    else:\n",
    "        profitability_data['year_level_data'][estimate_key] = {\n",
    "            '영업이익': 0,\n",
    "            '당기순이익': 0\n",
    "        }\n",
    "        profitability_data['year_rate_data'][estimate_key] = {\n",
    "            '영업이익률': 0,\n",
    "            '당기순이익률': 0\n",
    "        }\n",
    "\n",
    "    # 'recent_data'에 대해 최신 년월 기준으로 지난 12개월 데이터를 추출\n",
    "    past_12_months = pd.date_range(end=latest_year_month, periods=12, freq='ME').strftime(\"%Y-%m\").tolist()\n",
    "    for month in past_12_months:\n",
    "        monthly_data = df_company_info[df_company_info['날짜'] == month]\n",
    "        prev_year_month = (pd.to_datetime(month) - pd.DateOffset(years=1)).strftime(\"%Y-%m\")\n",
    "        prev_monthly_data = df_company_info[df_company_info['날짜'] == prev_year_month]\n",
    "        recent_12_months_data = df_company_info[(pd.to_datetime(df_company_info['날짜']) <= pd.to_datetime(month)) & (pd.to_datetime(df_company_info['날짜']) > (pd.to_datetime(month) - pd.DateOffset(months=12)))]\n",
    "        prev_recent_12_months_data = df_company_info[(pd.to_datetime(df_company_info['날짜']) <= pd.to_datetime(prev_year_month)) & (pd.to_datetime(df_company_info['날짜']) > (pd.to_datetime(prev_year_month) - pd.DateOffset(months=12)))]\n",
    "\n",
    "        if not monthly_data.empty:\n",
    "            operating_profit = int(round(monthly_data.at[monthly_data.index[0], '영업이익']))\n",
    "            prev_operating_profit = int(round(prev_monthly_data.at[prev_monthly_data.index[0], '영업이익'])) if not prev_monthly_data.empty else 0\n",
    "            operating_profit_growth_rate = round(((operating_profit - prev_operating_profit) / prev_operating_profit) * 100, 2) if prev_operating_profit != 0 else 0\n",
    "            recent_12_months_operating_profit = int(round(recent_12_months_data['영업이익'].sum()))\n",
    "            prev_12_months_operating_profit = int(round(prev_recent_12_months_data['영업이익'].sum()))\n",
    "            cumulative_growth_rate = round(((recent_12_months_operating_profit - prev_12_months_operating_profit) / prev_12_months_operating_profit) * 100, 2) if prev_12_months_operating_profit != 0 else 0\n",
    "\n",
    "            profitability_data['recent_data'][month] = {\n",
    "                '영업이익': operating_profit,\n",
    "                '전년동월 영업이익': prev_operating_profit,\n",
    "                '영업이익증가율': operating_profit_growth_rate,\n",
    "                '최근12개월 누적 영업이익': recent_12_months_operating_profit,\n",
    "                '전년동월 누적 영업이익': prev_12_months_operating_profit,\n",
    "                '누적 영업이익증가율': cumulative_growth_rate\n",
    "            }\n",
    "        else:\n",
    "            profitability_data['recent_data'][month] = {\n",
    "                '영업이익': 0,\n",
    "                '전년동월 영업이익': 0,\n",
    "                '영업이익증가율': 0,\n",
    "                '최근12개월 누적 영업이익': 0,\n",
    "                '전년동월 누적 영업이익': 0,\n",
    "                '누적 영업이익증가율': 0\n",
    "            }\n",
    "\n",
    "    return profitability_data\n",
    "\n",
    "\n",
    "pprint.pprint(preprocess_profitability_data(df_company_info[df_company_info['기업명'] == 'Company_1']))"
   ]
  },
  {
   "cell_type": "code",
   "execution_count": 42,
   "metadata": {},
   "outputs": [],
   "source": [
    "# from langchain.callbacks.streaming import StreamingStdOutCallbackHandler\n",
    "\n",
    "# SQLite 캐시 설정 - 반복된 요청에 대한 비용 절감 목적\n",
    "# from langchain.cache import SQLiteCache\n",
    "# langchain_cache = SQLiteCache(database_path=\"cache.sqlite\")\n",
    "\n",
    "# OpenAI GPT-4 Mini 모델 설정 (LLM 설정)\n",
    "llm = ChatOpenAI(\n",
    "    model_name=\"gpt-4o-mini\",\n",
    "    temperature=0,\n",
    "    max_tokens=300,\n",
    ")\n",
    "\n",
    "# 디렉토리 설정\n",
    "CURRENT_DIR = os.getcwd()\n",
    "PROMPT_PATH = os.path.join(CURRENT_DIR, \"prompts\")\n",
    "\n",
    "# prompts 폴더에서 prompt txt 파일 읽기 (보안 걸려서 txt 안 열림)\n",
    "def load_prompt(file_name):\n",
    "    \"\"\"\n",
    "    주어진 파일 이름의 프롬프트 템플릿을 읽어 반환합니다.\n",
    "    \"\"\"\n",
    "    file_path = os.path.join(PROMPT_PATH, file_name)\n",
    "    with open(file_path, 'r', encoding='utf-8') as file:\n",
    "        return file.read()\n",
    "    \n",
    "# 모든 프롬프트 템플릿 로드    \n",
    "growth_template = load_prompt(\"growth_template.txt\")\n",
    "\n",
    "# 성장성 지표 분석 프롬프트 설정\n",
    "growth_prompt = PromptTemplate.from_template(growth_template)\n",
    "\n",
    "# LCEL 체인 설정\n",
    "growth_analysis_chain = growth_prompt | llm"
   ]
  },
  {
   "cell_type": "code",
   "execution_count": 87,
   "metadata": {},
   "outputs": [],
   "source": [
    "import pandas as pd\n",
    "import matplotlib.pyplot as plt\n",
    "import numpy as np\n",
    "from matplotlib.ticker import FuncFormatter\n",
    "import plotly.graph_objs as go\n",
    "import plotly.subplots as sp\n",
    "from plotly.subplots import make_subplots\n",
    "\n",
    "plt.rcParams['axes.unicode_minus'] = False\n",
    "plt.rcParams['font.family'] = 'Malgun Gothic'\n",
    "\n",
    "def json_to_dataframe_plotly(json_data: dict):\n",
    "    '''\n",
    "    Json data를 DataFrame으로 변경하고 Plotly로 시각화\n",
    "    '''\n",
    "    # 'year_level_data'를 DataFrame으로 변환\n",
    "    year_level_df = pd.DataFrame.from_dict(json_data['year_level_data'], orient='index')\n",
    "    year_level_df.reset_index(inplace=True)\n",
    "    year_level_df.rename(columns={'index': '연도'}, inplace=True)\n",
    "    year_level_df = year_level_df.sort_values(by='연도')  # 연도 순서로 정렬\n",
    "\n",
    "    # 'year_rate_data'를 DataFrame으로 변환\n",
    "    year_rate_df = pd.DataFrame.from_dict(json_data['year_rate_data'], orient='index')\n",
    "    year_rate_df.reset_index(inplace=True)\n",
    "    year_rate_df.rename(columns={'index': '연도'}, inplace=True)\n",
    "    year_rate_df = year_rate_df.sort_values(by='연도')  # 연도 순서로 정렬\n",
    "\n",
    "    # 'recent_data'를 DataFrame으로 변환\n",
    "    recent_data_df = pd.DataFrame.from_dict(json_data['recent_data'], orient='index')\n",
    "    recent_data_df.reset_index(inplace=True)\n",
    "    recent_data_df.rename(columns={'index': '월'}, inplace=True)\n",
    "\n",
    "    # 1. year_level_data를 가지고 막대그래프 그리기\n",
    "    fig = make_subplots(rows=1, cols=2, subplot_titles=('연도별 총자산 및 매출액', '연도별 총자산증가율 및 매출액증가율'))\n",
    "\n",
    "    # 연도별 총자산 및 매출액 (막대 그래프)\n",
    "    bars = [\n",
    "        go.Bar(x=year_level_df['연도'], y=year_level_df['총자산'], name='총자산', marker_color='#2a9d8f'),\n",
    "        go.Bar(x=year_level_df['연도'], y=year_level_df['매출액'], name='매출액', marker_color='#e76f51')\n",
    "    ]\n",
    "    fig.add_traces(bars, rows=[1, 1], cols=[1, 1])\n",
    "\n",
    "    # 연도별 총자산증가율 및 매출액증가율 (라인 그래프)\n",
    "    lines = [\n",
    "        go.Scatter(x=year_rate_df['연도'], y=year_rate_df['총자산증가율'], mode='lines+markers', name='총자산증가율', line=dict(color='#264653')),\n",
    "        go.Scatter(x=year_rate_df['연도'], y=year_rate_df['매출액증가율'], mode='lines+markers', name='매출액증가율', line=dict(color='#f4a261'))\n",
    "    ]\n",
    "    fig.add_traces(lines, rows=[1, 1], cols=[2, 2])\n",
    "\n",
    "    # 레이아웃 설정 및 legend를 각 서브플롯 아래에 배치\n",
    "    fig.update_layout(\n",
    "        width=1200,\n",
    "        height=700,\n",
    "        showlegend=True,\n",
    "        legend=dict(\n",
    "            orientation='h',\n",
    "            yanchor='top',\n",
    "            y=-0.12,\n",
    "            xanchor='center',\n",
    "            x=0.5\n",
    "        ),\n",
    "        annotations=[\n",
    "            dict(\n",
    "                text='연도별 총자산 및 매출액',\n",
    "                x=0.22,\n",
    "                y=1.02,\n",
    "                xref='paper',\n",
    "                yref='paper',\n",
    "                showarrow=False,\n",
    "                font=dict(size=20)\n",
    "            ),\n",
    "            dict(\n",
    "                text='연도별 총자산증가율 및 매출액증가율',\n",
    "                x=0.78,\n",
    "                y=1.02,\n",
    "                xref='paper',\n",
    "                yref='paper',\n",
    "                showarrow=False,\n",
    "                font=dict(size=20)\n",
    "            )\n",
    "        ]\n",
    "    )\n",
    "\n",
    "    fig.show()\n",
    "\n",
    "    # 2. recent_data를 가지고 월별 데이터 시각화\n",
    "    fig2 = make_subplots(rows=2, cols=1, subplot_titles=('월별 매출액 및 전년 동월 매출액', '매출액 증가율 및 누적 매출액 증가율'),\n",
    "                         vertical_spacing=0.08)  # vertical_spacing을 더 줄임\n",
    "\n",
    "    # 월별 매출액 및 전년 동월 매출액 (막대 그래프)\n",
    "    bars2 = [\n",
    "        go.Bar(x=recent_data_df['월'], y=recent_data_df['매출액'], name='매출액', marker_color='#2a9d8f'),\n",
    "        go.Bar(x=recent_data_df['월'], y=recent_data_df['전년 동월 매출액'], name='전년 동월 매출액', marker_color='#e76f51')\n",
    "    ]\n",
    "    fig2.add_traces(bars2, rows=[1, 1], cols=[1, 1])\n",
    "\n",
    "    # 매출액 증가율 및 누적 매출액 증가율 (라인 그래프)\n",
    "    lines2 = [\n",
    "        go.Scatter(x=recent_data_df['월'], y=recent_data_df['매출액증가율'], mode='lines+markers', name='매출액 증가율', line=dict(color='#264653')),\n",
    "        go.Scatter(x=recent_data_df['월'], y=recent_data_df['누적 매출액증가율'], mode='lines+markers', name='누적 매출액증가율', line=dict(color='#f4a261'))\n",
    "    ]\n",
    "    fig2.add_traces(lines2, rows=[2, 2], cols=[1, 1])\n",
    "\n",
    "    # 레이아웃 설정 및 legend를 각 서브플롯 아래에 배치\n",
    "    fig2.update_layout(\n",
    "        width=1200,\n",
    "        height=900,\n",
    "        showlegend=True,\n",
    "        legend=dict(\n",
    "            orientation='h',\n",
    "            yanchor='top',\n",
    "            y=-0.08,\n",
    "            xanchor='center',\n",
    "            x=0.5\n",
    "        ),\n",
    "        annotations=[\n",
    "            dict(\n",
    "                text='월별 매출액 및 전년 동월 매출액',\n",
    "                x=0.5,\n",
    "                y=1.02,\n",
    "                xref='paper',\n",
    "                yref='paper',\n",
    "                showarrow=False,\n",
    "                font=dict(size=20)\n",
    "            ),\n",
    "            dict(\n",
    "                text='매출액 증가율 및 누적 매출액 증가율',\n",
    "                x=0.5,\n",
    "                y=0.46,  # y 값을 더 낮춤\n",
    "                xref='paper',\n",
    "                yref='paper',\n",
    "                showarrow=False,\n",
    "                font=dict(size=20)\n",
    "            )\n",
    "        ]\n",
    "    )\n",
    "\n",
    "    fig2.show()\n",
    "\n",
    "    # 피벗된 DataFrame 출력\n",
    "    year_level_df_pivot = year_level_df.pivot_table(index=None, columns='연도', values=['총자산', '매출액'])\n",
    "    year_rate_df_pivot = year_rate_df.pivot_table(index=None, columns='연도', values=['총자산증가율', '매출액증가율'])\n",
    "    recent_data_df_pivot = recent_data_df.pivot_table(index=None, columns='월', values=['매출액', '전년 동월 매출액', '매출액증가율', '최근 12개월 누적 매출액', '전년동월 누적 매출액', '누적 매출액증가율'])\n",
    "\n",
    "    print(\"Year Level DataFrame (Pivoted):\")\n",
    "    print(year_level_df_pivot.astype(int))\n",
    "\n",
    "    print(\"\\nYear Rate DataFrame (Pivoted):\")\n",
    "    print(year_rate_df_pivot)\n",
    "\n",
    "    print(\"\\nRecent DataFrame (Pivoted):\")\n",
    "    print(recent_data_df_pivot)"
   ]
  },
  {
   "cell_type": "code",
   "execution_count": 88,
   "metadata": {},
   "outputs": [
    {
     "name": "stdout",
     "output_type": "stream",
     "text": [
      "{'latest_year_month': '2024-09',\n",
      " 'recent_data': {'2023-09': {'누적 매출액증가율': -20.33,\n",
      "                             '매출액': 2846,\n",
      "                             '매출액증가율': 36.96,\n",
      "                             '전년 동월 매출액': 2078,\n",
      "                             '전년동월 누적 매출액': 76199,\n",
      "                             '최근 12개월 누적 매출액': 60711},\n",
      "                 '2023-10': {'누적 매출액증가율': -24.07,\n",
      "                             '매출액': 3451,\n",
      "                             '매출액증가율': -37.07,\n",
      "                             '전년 동월 매출액': 5484,\n",
      "                             '전년동월 누적 매출액': 77281,\n",
      "                             '최근 12개월 누적 매출액': 58678},\n",
      "                 '2023-11': {'누적 매출액증가율': -30.53,\n",
      "                             '매출액': 3189,\n",
      "                             '매출액증가율': -63.72,\n",
      "                             '전년 동월 매출액': 8790,\n",
      "                             '전년동월 누적 매출액': 76402,\n",
      "                             '최근 12개월 누적 매출액': 53077},\n",
      "                 '2023-12': {'누적 매출액증가율': -29.1,\n",
      "                             '매출액': 9196,\n",
      "                             '매출액증가율': 16.26,\n",
      "                             '전년 동월 매출액': 7910,\n",
      "                             '전년동월 누적 매출액': 76678,\n",
      "                             '최근 12개월 누적 매출액': 54363},\n",
      "                 '2024-01': {'누적 매출액증가율': -25.26,\n",
      "                             '매출액': 4827,\n",
      "                             '매출액증가율': 16.59,\n",
      "                             '전년 동월 매출액': 4140,\n",
      "                             '전년동월 누적 매출액': 73655,\n",
      "                             '최근 12개월 누적 매출액': 55050},\n",
      "                 '2024-02': {'누적 매출액증가율': -21.3,\n",
      "                             '매출액': 1605,\n",
      "                             '매출액증가율': -40.07,\n",
      "                             '전년 동월 매출액': 2678,\n",
      "                             '전년동월 누적 매출액': 68587,\n",
      "                             '최근 12개월 누적 매출액': 53977},\n",
      "                 '2024-03': {'누적 매출액증가율': -26.36,\n",
      "                             '매출액': 6428,\n",
      "                             '매출액증가율': -2.87,\n",
      "                             '전년 동월 매출액': 6618,\n",
      "                             '전년동월 누적 매출액': 73043,\n",
      "                             '최근 12개월 누적 매출액': 53787},\n",
      "                 '2024-04': {'누적 매출액증가율': -25.87,\n",
      "                             '매출액': 8618,\n",
      "                             '매출액증가율': 16.04,\n",
      "                             '전년 동월 매출액': 7427,\n",
      "                             '전년동월 누적 매출액': 74160,\n",
      "                             '최근 12개월 누적 매출액': 54978},\n",
      "                 '2024-05': {'누적 매출액증가율': -9.46,\n",
      "                             '매출액': 9256,\n",
      "                             '매출액증가율': 251.4,\n",
      "                             '전년 동월 매출액': 2634,\n",
      "                             '전년동월 누적 매출액': 68033,\n",
      "                             '최근 12개월 누적 매출액': 61600},\n",
      "                 '2024-06': {'누적 매출액증가율': -8.65,\n",
      "                             '매출액': 7029,\n",
      "                             '매출액증가율': 2.43,\n",
      "                             '전년 동월 매출액': 6862,\n",
      "                             '전년동월 누적 매출액': 67616,\n",
      "                             '최근 12개월 누적 매출액': 61767},\n",
      "                 '2024-07': {'누적 매출액증가율': -7.12,\n",
      "                             '매출액': 2085,\n",
      "                             '매출액증가율': -48.1,\n",
      "                             '전년 동월 매출액': 4017,\n",
      "                             '전년동월 누적 매출액': 64419,\n",
      "                             '최근 12개월 누적 매출액': 59835},\n",
      "                 '2024-08': {'누적 매출액증가율': -0.69,\n",
      "                             '매출액': 1002,\n",
      "                             '매출액증가율': -23.22,\n",
      "                             '전년 동월 매출액': 1305,\n",
      "                             '전년동월 누적 매출액': 59943,\n",
      "                             '최근 12개월 누적 매출액': 59532}},\n",
      " 'year_level_data': {'2021년': {'매출액': 72399, '총자산': 30687},\n",
      "                     '2022년': {'매출액': 76678, '총자산': 29873},\n",
      "                     '2023년': {'매출액': 54363, '총자산': 29656},\n",
      "                     '2024년(E)': {'매출액': 61275, '총자산': 29669}},\n",
      " 'year_rate_data': {'2021년': {'매출액증가율': 21.16, '총자산증가율': -5.99},\n",
      "                    '2022년': {'매출액증가율': 5.91, '총자산증가율': -2.65},\n",
      "                    '2023년': {'매출액증가율': -29.1, '총자산증가율': -0.73},\n",
      "                    '2024년(E)': {'매출액증가율': 12.71, '총자산증가율': 0.04}}}\n"
     ]
    }
   ],
   "source": [
    "pprint.pprint(growth_data)"
   ]
  },
  {
   "cell_type": "code",
   "execution_count": 89,
   "metadata": {},
   "outputs": [
    {
     "name": "stdout",
     "output_type": "stream",
     "text": [
      "\n",
      "\n",
      " ########## Company_1 ##########\n"
     ]
    },
    {
     "data": {
      "application/vnd.plotly.v1+json": {
       "config": {
        "plotlyServerURL": "https://plot.ly"
       },
       "data": [
        {
         "marker": {
          "color": "#2a9d8f"
         },
         "name": "총자산",
         "type": "bar",
         "x": [
          "2021년",
          "2022년",
          "2023년",
          "2024년(E)"
         ],
         "xaxis": "x",
         "y": [
          30687,
          29873,
          29656,
          29669
         ],
         "yaxis": "y"
        },
        {
         "marker": {
          "color": "#e76f51"
         },
         "name": "매출액",
         "type": "bar",
         "x": [
          "2021년",
          "2022년",
          "2023년",
          "2024년(E)"
         ],
         "xaxis": "x",
         "y": [
          72399,
          76678,
          54363,
          61275
         ],
         "yaxis": "y"
        },
        {
         "line": {
          "color": "#264653"
         },
         "mode": "lines+markers",
         "name": "총자산증가율",
         "type": "scatter",
         "x": [
          "2021년",
          "2022년",
          "2023년",
          "2024년(E)"
         ],
         "xaxis": "x2",
         "y": [
          -5.99,
          -2.65,
          -0.73,
          0.04
         ],
         "yaxis": "y2"
        },
        {
         "line": {
          "color": "#f4a261"
         },
         "mode": "lines+markers",
         "name": "매출액증가율",
         "type": "scatter",
         "x": [
          "2021년",
          "2022년",
          "2023년",
          "2024년(E)"
         ],
         "xaxis": "x2",
         "y": [
          21.16,
          5.91,
          -29.1,
          12.71
         ],
         "yaxis": "y2"
        }
       ],
       "layout": {
        "annotations": [
         {
          "font": {
           "size": 20
          },
          "showarrow": false,
          "text": "연도별 총자산 및 매출액",
          "x": 0.22,
          "xanchor": "center",
          "xref": "paper",
          "y": 1.02,
          "yanchor": "bottom",
          "yref": "paper"
         },
         {
          "font": {
           "size": 20
          },
          "showarrow": false,
          "text": "연도별 총자산증가율 및 매출액증가율",
          "x": 0.78,
          "xanchor": "center",
          "xref": "paper",
          "y": 1.02,
          "yanchor": "bottom",
          "yref": "paper"
         }
        ],
        "height": 700,
        "legend": {
         "orientation": "h",
         "x": 0.5,
         "xanchor": "center",
         "y": -0.12,
         "yanchor": "top"
        },
        "showlegend": true,
        "template": {
         "data": {
          "bar": [
           {
            "error_x": {
             "color": "#2a3f5f"
            },
            "error_y": {
             "color": "#2a3f5f"
            },
            "marker": {
             "line": {
              "color": "#E5ECF6",
              "width": 0.5
             },
             "pattern": {
              "fillmode": "overlay",
              "size": 10,
              "solidity": 0.2
             }
            },
            "type": "bar"
           }
          ],
          "barpolar": [
           {
            "marker": {
             "line": {
              "color": "#E5ECF6",
              "width": 0.5
             },
             "pattern": {
              "fillmode": "overlay",
              "size": 10,
              "solidity": 0.2
             }
            },
            "type": "barpolar"
           }
          ],
          "carpet": [
           {
            "aaxis": {
             "endlinecolor": "#2a3f5f",
             "gridcolor": "white",
             "linecolor": "white",
             "minorgridcolor": "white",
             "startlinecolor": "#2a3f5f"
            },
            "baxis": {
             "endlinecolor": "#2a3f5f",
             "gridcolor": "white",
             "linecolor": "white",
             "minorgridcolor": "white",
             "startlinecolor": "#2a3f5f"
            },
            "type": "carpet"
           }
          ],
          "choropleth": [
           {
            "colorbar": {
             "outlinewidth": 0,
             "ticks": ""
            },
            "type": "choropleth"
           }
          ],
          "contour": [
           {
            "colorbar": {
             "outlinewidth": 0,
             "ticks": ""
            },
            "colorscale": [
             [
              0,
              "#0d0887"
             ],
             [
              0.1111111111111111,
              "#46039f"
             ],
             [
              0.2222222222222222,
              "#7201a8"
             ],
             [
              0.3333333333333333,
              "#9c179e"
             ],
             [
              0.4444444444444444,
              "#bd3786"
             ],
             [
              0.5555555555555556,
              "#d8576b"
             ],
             [
              0.6666666666666666,
              "#ed7953"
             ],
             [
              0.7777777777777778,
              "#fb9f3a"
             ],
             [
              0.8888888888888888,
              "#fdca26"
             ],
             [
              1,
              "#f0f921"
             ]
            ],
            "type": "contour"
           }
          ],
          "contourcarpet": [
           {
            "colorbar": {
             "outlinewidth": 0,
             "ticks": ""
            },
            "type": "contourcarpet"
           }
          ],
          "heatmap": [
           {
            "colorbar": {
             "outlinewidth": 0,
             "ticks": ""
            },
            "colorscale": [
             [
              0,
              "#0d0887"
             ],
             [
              0.1111111111111111,
              "#46039f"
             ],
             [
              0.2222222222222222,
              "#7201a8"
             ],
             [
              0.3333333333333333,
              "#9c179e"
             ],
             [
              0.4444444444444444,
              "#bd3786"
             ],
             [
              0.5555555555555556,
              "#d8576b"
             ],
             [
              0.6666666666666666,
              "#ed7953"
             ],
             [
              0.7777777777777778,
              "#fb9f3a"
             ],
             [
              0.8888888888888888,
              "#fdca26"
             ],
             [
              1,
              "#f0f921"
             ]
            ],
            "type": "heatmap"
           }
          ],
          "heatmapgl": [
           {
            "colorbar": {
             "outlinewidth": 0,
             "ticks": ""
            },
            "colorscale": [
             [
              0,
              "#0d0887"
             ],
             [
              0.1111111111111111,
              "#46039f"
             ],
             [
              0.2222222222222222,
              "#7201a8"
             ],
             [
              0.3333333333333333,
              "#9c179e"
             ],
             [
              0.4444444444444444,
              "#bd3786"
             ],
             [
              0.5555555555555556,
              "#d8576b"
             ],
             [
              0.6666666666666666,
              "#ed7953"
             ],
             [
              0.7777777777777778,
              "#fb9f3a"
             ],
             [
              0.8888888888888888,
              "#fdca26"
             ],
             [
              1,
              "#f0f921"
             ]
            ],
            "type": "heatmapgl"
           }
          ],
          "histogram": [
           {
            "marker": {
             "pattern": {
              "fillmode": "overlay",
              "size": 10,
              "solidity": 0.2
             }
            },
            "type": "histogram"
           }
          ],
          "histogram2d": [
           {
            "colorbar": {
             "outlinewidth": 0,
             "ticks": ""
            },
            "colorscale": [
             [
              0,
              "#0d0887"
             ],
             [
              0.1111111111111111,
              "#46039f"
             ],
             [
              0.2222222222222222,
              "#7201a8"
             ],
             [
              0.3333333333333333,
              "#9c179e"
             ],
             [
              0.4444444444444444,
              "#bd3786"
             ],
             [
              0.5555555555555556,
              "#d8576b"
             ],
             [
              0.6666666666666666,
              "#ed7953"
             ],
             [
              0.7777777777777778,
              "#fb9f3a"
             ],
             [
              0.8888888888888888,
              "#fdca26"
             ],
             [
              1,
              "#f0f921"
             ]
            ],
            "type": "histogram2d"
           }
          ],
          "histogram2dcontour": [
           {
            "colorbar": {
             "outlinewidth": 0,
             "ticks": ""
            },
            "colorscale": [
             [
              0,
              "#0d0887"
             ],
             [
              0.1111111111111111,
              "#46039f"
             ],
             [
              0.2222222222222222,
              "#7201a8"
             ],
             [
              0.3333333333333333,
              "#9c179e"
             ],
             [
              0.4444444444444444,
              "#bd3786"
             ],
             [
              0.5555555555555556,
              "#d8576b"
             ],
             [
              0.6666666666666666,
              "#ed7953"
             ],
             [
              0.7777777777777778,
              "#fb9f3a"
             ],
             [
              0.8888888888888888,
              "#fdca26"
             ],
             [
              1,
              "#f0f921"
             ]
            ],
            "type": "histogram2dcontour"
           }
          ],
          "mesh3d": [
           {
            "colorbar": {
             "outlinewidth": 0,
             "ticks": ""
            },
            "type": "mesh3d"
           }
          ],
          "parcoords": [
           {
            "line": {
             "colorbar": {
              "outlinewidth": 0,
              "ticks": ""
             }
            },
            "type": "parcoords"
           }
          ],
          "pie": [
           {
            "automargin": true,
            "type": "pie"
           }
          ],
          "scatter": [
           {
            "fillpattern": {
             "fillmode": "overlay",
             "size": 10,
             "solidity": 0.2
            },
            "type": "scatter"
           }
          ],
          "scatter3d": [
           {
            "line": {
             "colorbar": {
              "outlinewidth": 0,
              "ticks": ""
             }
            },
            "marker": {
             "colorbar": {
              "outlinewidth": 0,
              "ticks": ""
             }
            },
            "type": "scatter3d"
           }
          ],
          "scattercarpet": [
           {
            "marker": {
             "colorbar": {
              "outlinewidth": 0,
              "ticks": ""
             }
            },
            "type": "scattercarpet"
           }
          ],
          "scattergeo": [
           {
            "marker": {
             "colorbar": {
              "outlinewidth": 0,
              "ticks": ""
             }
            },
            "type": "scattergeo"
           }
          ],
          "scattergl": [
           {
            "marker": {
             "colorbar": {
              "outlinewidth": 0,
              "ticks": ""
             }
            },
            "type": "scattergl"
           }
          ],
          "scattermapbox": [
           {
            "marker": {
             "colorbar": {
              "outlinewidth": 0,
              "ticks": ""
             }
            },
            "type": "scattermapbox"
           }
          ],
          "scatterpolar": [
           {
            "marker": {
             "colorbar": {
              "outlinewidth": 0,
              "ticks": ""
             }
            },
            "type": "scatterpolar"
           }
          ],
          "scatterpolargl": [
           {
            "marker": {
             "colorbar": {
              "outlinewidth": 0,
              "ticks": ""
             }
            },
            "type": "scatterpolargl"
           }
          ],
          "scatterternary": [
           {
            "marker": {
             "colorbar": {
              "outlinewidth": 0,
              "ticks": ""
             }
            },
            "type": "scatterternary"
           }
          ],
          "surface": [
           {
            "colorbar": {
             "outlinewidth": 0,
             "ticks": ""
            },
            "colorscale": [
             [
              0,
              "#0d0887"
             ],
             [
              0.1111111111111111,
              "#46039f"
             ],
             [
              0.2222222222222222,
              "#7201a8"
             ],
             [
              0.3333333333333333,
              "#9c179e"
             ],
             [
              0.4444444444444444,
              "#bd3786"
             ],
             [
              0.5555555555555556,
              "#d8576b"
             ],
             [
              0.6666666666666666,
              "#ed7953"
             ],
             [
              0.7777777777777778,
              "#fb9f3a"
             ],
             [
              0.8888888888888888,
              "#fdca26"
             ],
             [
              1,
              "#f0f921"
             ]
            ],
            "type": "surface"
           }
          ],
          "table": [
           {
            "cells": {
             "fill": {
              "color": "#EBF0F8"
             },
             "line": {
              "color": "white"
             }
            },
            "header": {
             "fill": {
              "color": "#C8D4E3"
             },
             "line": {
              "color": "white"
             }
            },
            "type": "table"
           }
          ]
         },
         "layout": {
          "annotationdefaults": {
           "arrowcolor": "#2a3f5f",
           "arrowhead": 0,
           "arrowwidth": 1
          },
          "autotypenumbers": "strict",
          "coloraxis": {
           "colorbar": {
            "outlinewidth": 0,
            "ticks": ""
           }
          },
          "colorscale": {
           "diverging": [
            [
             0,
             "#8e0152"
            ],
            [
             0.1,
             "#c51b7d"
            ],
            [
             0.2,
             "#de77ae"
            ],
            [
             0.3,
             "#f1b6da"
            ],
            [
             0.4,
             "#fde0ef"
            ],
            [
             0.5,
             "#f7f7f7"
            ],
            [
             0.6,
             "#e6f5d0"
            ],
            [
             0.7,
             "#b8e186"
            ],
            [
             0.8,
             "#7fbc41"
            ],
            [
             0.9,
             "#4d9221"
            ],
            [
             1,
             "#276419"
            ]
           ],
           "sequential": [
            [
             0,
             "#0d0887"
            ],
            [
             0.1111111111111111,
             "#46039f"
            ],
            [
             0.2222222222222222,
             "#7201a8"
            ],
            [
             0.3333333333333333,
             "#9c179e"
            ],
            [
             0.4444444444444444,
             "#bd3786"
            ],
            [
             0.5555555555555556,
             "#d8576b"
            ],
            [
             0.6666666666666666,
             "#ed7953"
            ],
            [
             0.7777777777777778,
             "#fb9f3a"
            ],
            [
             0.8888888888888888,
             "#fdca26"
            ],
            [
             1,
             "#f0f921"
            ]
           ],
           "sequentialminus": [
            [
             0,
             "#0d0887"
            ],
            [
             0.1111111111111111,
             "#46039f"
            ],
            [
             0.2222222222222222,
             "#7201a8"
            ],
            [
             0.3333333333333333,
             "#9c179e"
            ],
            [
             0.4444444444444444,
             "#bd3786"
            ],
            [
             0.5555555555555556,
             "#d8576b"
            ],
            [
             0.6666666666666666,
             "#ed7953"
            ],
            [
             0.7777777777777778,
             "#fb9f3a"
            ],
            [
             0.8888888888888888,
             "#fdca26"
            ],
            [
             1,
             "#f0f921"
            ]
           ]
          },
          "colorway": [
           "#636efa",
           "#EF553B",
           "#00cc96",
           "#ab63fa",
           "#FFA15A",
           "#19d3f3",
           "#FF6692",
           "#B6E880",
           "#FF97FF",
           "#FECB52"
          ],
          "font": {
           "color": "#2a3f5f"
          },
          "geo": {
           "bgcolor": "white",
           "lakecolor": "white",
           "landcolor": "#E5ECF6",
           "showlakes": true,
           "showland": true,
           "subunitcolor": "white"
          },
          "hoverlabel": {
           "align": "left"
          },
          "hovermode": "closest",
          "mapbox": {
           "style": "light"
          },
          "paper_bgcolor": "white",
          "plot_bgcolor": "#E5ECF6",
          "polar": {
           "angularaxis": {
            "gridcolor": "white",
            "linecolor": "white",
            "ticks": ""
           },
           "bgcolor": "#E5ECF6",
           "radialaxis": {
            "gridcolor": "white",
            "linecolor": "white",
            "ticks": ""
           }
          },
          "scene": {
           "xaxis": {
            "backgroundcolor": "#E5ECF6",
            "gridcolor": "white",
            "gridwidth": 2,
            "linecolor": "white",
            "showbackground": true,
            "ticks": "",
            "zerolinecolor": "white"
           },
           "yaxis": {
            "backgroundcolor": "#E5ECF6",
            "gridcolor": "white",
            "gridwidth": 2,
            "linecolor": "white",
            "showbackground": true,
            "ticks": "",
            "zerolinecolor": "white"
           },
           "zaxis": {
            "backgroundcolor": "#E5ECF6",
            "gridcolor": "white",
            "gridwidth": 2,
            "linecolor": "white",
            "showbackground": true,
            "ticks": "",
            "zerolinecolor": "white"
           }
          },
          "shapedefaults": {
           "line": {
            "color": "#2a3f5f"
           }
          },
          "ternary": {
           "aaxis": {
            "gridcolor": "white",
            "linecolor": "white",
            "ticks": ""
           },
           "baxis": {
            "gridcolor": "white",
            "linecolor": "white",
            "ticks": ""
           },
           "bgcolor": "#E5ECF6",
           "caxis": {
            "gridcolor": "white",
            "linecolor": "white",
            "ticks": ""
           }
          },
          "title": {
           "x": 0.05
          },
          "xaxis": {
           "automargin": true,
           "gridcolor": "white",
           "linecolor": "white",
           "ticks": "",
           "title": {
            "standoff": 15
           },
           "zerolinecolor": "white",
           "zerolinewidth": 2
          },
          "yaxis": {
           "automargin": true,
           "gridcolor": "white",
           "linecolor": "white",
           "ticks": "",
           "title": {
            "standoff": 15
           },
           "zerolinecolor": "white",
           "zerolinewidth": 2
          }
         }
        },
        "width": 1200,
        "xaxis": {
         "anchor": "y",
         "domain": [
          0,
          0.45
         ]
        },
        "xaxis2": {
         "anchor": "y2",
         "domain": [
          0.55,
          1
         ]
        },
        "yaxis": {
         "anchor": "x",
         "domain": [
          0,
          1
         ]
        },
        "yaxis2": {
         "anchor": "x2",
         "domain": [
          0,
          1
         ]
        }
       }
      }
     },
     "metadata": {},
     "output_type": "display_data"
    },
    {
     "data": {
      "application/vnd.plotly.v1+json": {
       "config": {
        "plotlyServerURL": "https://plot.ly"
       },
       "data": [
        {
         "marker": {
          "color": "#2a9d8f"
         },
         "name": "매출액",
         "type": "bar",
         "x": [
          "2023-09",
          "2023-10",
          "2023-11",
          "2023-12",
          "2024-01",
          "2024-02",
          "2024-03",
          "2024-04",
          "2024-05",
          "2024-06",
          "2024-07",
          "2024-08"
         ],
         "xaxis": "x",
         "y": [
          2846,
          3451,
          3189,
          9196,
          4827,
          1605,
          6428,
          8618,
          9256,
          7029,
          2085,
          1002
         ],
         "yaxis": "y"
        },
        {
         "marker": {
          "color": "#e76f51"
         },
         "name": "전년 동월 매출액",
         "type": "bar",
         "x": [
          "2023-09",
          "2023-10",
          "2023-11",
          "2023-12",
          "2024-01",
          "2024-02",
          "2024-03",
          "2024-04",
          "2024-05",
          "2024-06",
          "2024-07",
          "2024-08"
         ],
         "xaxis": "x",
         "y": [
          2078,
          5484,
          8790,
          7910,
          4140,
          2678,
          6618,
          7427,
          2634,
          6862,
          4017,
          1305
         ],
         "yaxis": "y"
        },
        {
         "line": {
          "color": "#264653"
         },
         "mode": "lines+markers",
         "name": "매출액 증가율",
         "type": "scatter",
         "x": [
          "2023-09",
          "2023-10",
          "2023-11",
          "2023-12",
          "2024-01",
          "2024-02",
          "2024-03",
          "2024-04",
          "2024-05",
          "2024-06",
          "2024-07",
          "2024-08"
         ],
         "xaxis": "x2",
         "y": [
          36.96,
          -37.07,
          -63.72,
          16.26,
          16.59,
          -40.07,
          -2.87,
          16.04,
          251.4,
          2.43,
          -48.1,
          -23.22
         ],
         "yaxis": "y2"
        },
        {
         "line": {
          "color": "#f4a261"
         },
         "mode": "lines+markers",
         "name": "누적 매출액증가율",
         "type": "scatter",
         "x": [
          "2023-09",
          "2023-10",
          "2023-11",
          "2023-12",
          "2024-01",
          "2024-02",
          "2024-03",
          "2024-04",
          "2024-05",
          "2024-06",
          "2024-07",
          "2024-08"
         ],
         "xaxis": "x2",
         "y": [
          -20.33,
          -24.07,
          -30.53,
          -29.1,
          -25.26,
          -21.3,
          -26.36,
          -25.87,
          -9.46,
          -8.65,
          -7.12,
          -0.69
         ],
         "yaxis": "y2"
        }
       ],
       "layout": {
        "annotations": [
         {
          "font": {
           "size": 20
          },
          "showarrow": false,
          "text": "월별 매출액 및 전년 동월 매출액",
          "x": 0.5,
          "xanchor": "center",
          "xref": "paper",
          "y": 1.02,
          "yanchor": "bottom",
          "yref": "paper"
         },
         {
          "font": {
           "size": 20
          },
          "showarrow": false,
          "text": "매출액 증가율 및 누적 매출액 증가율",
          "x": 0.5,
          "xanchor": "center",
          "xref": "paper",
          "y": 0.46,
          "yanchor": "bottom",
          "yref": "paper"
         }
        ],
        "height": 900,
        "legend": {
         "orientation": "h",
         "x": 0.5,
         "xanchor": "center",
         "y": -0.08,
         "yanchor": "top"
        },
        "showlegend": true,
        "template": {
         "data": {
          "bar": [
           {
            "error_x": {
             "color": "#2a3f5f"
            },
            "error_y": {
             "color": "#2a3f5f"
            },
            "marker": {
             "line": {
              "color": "#E5ECF6",
              "width": 0.5
             },
             "pattern": {
              "fillmode": "overlay",
              "size": 10,
              "solidity": 0.2
             }
            },
            "type": "bar"
           }
          ],
          "barpolar": [
           {
            "marker": {
             "line": {
              "color": "#E5ECF6",
              "width": 0.5
             },
             "pattern": {
              "fillmode": "overlay",
              "size": 10,
              "solidity": 0.2
             }
            },
            "type": "barpolar"
           }
          ],
          "carpet": [
           {
            "aaxis": {
             "endlinecolor": "#2a3f5f",
             "gridcolor": "white",
             "linecolor": "white",
             "minorgridcolor": "white",
             "startlinecolor": "#2a3f5f"
            },
            "baxis": {
             "endlinecolor": "#2a3f5f",
             "gridcolor": "white",
             "linecolor": "white",
             "minorgridcolor": "white",
             "startlinecolor": "#2a3f5f"
            },
            "type": "carpet"
           }
          ],
          "choropleth": [
           {
            "colorbar": {
             "outlinewidth": 0,
             "ticks": ""
            },
            "type": "choropleth"
           }
          ],
          "contour": [
           {
            "colorbar": {
             "outlinewidth": 0,
             "ticks": ""
            },
            "colorscale": [
             [
              0,
              "#0d0887"
             ],
             [
              0.1111111111111111,
              "#46039f"
             ],
             [
              0.2222222222222222,
              "#7201a8"
             ],
             [
              0.3333333333333333,
              "#9c179e"
             ],
             [
              0.4444444444444444,
              "#bd3786"
             ],
             [
              0.5555555555555556,
              "#d8576b"
             ],
             [
              0.6666666666666666,
              "#ed7953"
             ],
             [
              0.7777777777777778,
              "#fb9f3a"
             ],
             [
              0.8888888888888888,
              "#fdca26"
             ],
             [
              1,
              "#f0f921"
             ]
            ],
            "type": "contour"
           }
          ],
          "contourcarpet": [
           {
            "colorbar": {
             "outlinewidth": 0,
             "ticks": ""
            },
            "type": "contourcarpet"
           }
          ],
          "heatmap": [
           {
            "colorbar": {
             "outlinewidth": 0,
             "ticks": ""
            },
            "colorscale": [
             [
              0,
              "#0d0887"
             ],
             [
              0.1111111111111111,
              "#46039f"
             ],
             [
              0.2222222222222222,
              "#7201a8"
             ],
             [
              0.3333333333333333,
              "#9c179e"
             ],
             [
              0.4444444444444444,
              "#bd3786"
             ],
             [
              0.5555555555555556,
              "#d8576b"
             ],
             [
              0.6666666666666666,
              "#ed7953"
             ],
             [
              0.7777777777777778,
              "#fb9f3a"
             ],
             [
              0.8888888888888888,
              "#fdca26"
             ],
             [
              1,
              "#f0f921"
             ]
            ],
            "type": "heatmap"
           }
          ],
          "heatmapgl": [
           {
            "colorbar": {
             "outlinewidth": 0,
             "ticks": ""
            },
            "colorscale": [
             [
              0,
              "#0d0887"
             ],
             [
              0.1111111111111111,
              "#46039f"
             ],
             [
              0.2222222222222222,
              "#7201a8"
             ],
             [
              0.3333333333333333,
              "#9c179e"
             ],
             [
              0.4444444444444444,
              "#bd3786"
             ],
             [
              0.5555555555555556,
              "#d8576b"
             ],
             [
              0.6666666666666666,
              "#ed7953"
             ],
             [
              0.7777777777777778,
              "#fb9f3a"
             ],
             [
              0.8888888888888888,
              "#fdca26"
             ],
             [
              1,
              "#f0f921"
             ]
            ],
            "type": "heatmapgl"
           }
          ],
          "histogram": [
           {
            "marker": {
             "pattern": {
              "fillmode": "overlay",
              "size": 10,
              "solidity": 0.2
             }
            },
            "type": "histogram"
           }
          ],
          "histogram2d": [
           {
            "colorbar": {
             "outlinewidth": 0,
             "ticks": ""
            },
            "colorscale": [
             [
              0,
              "#0d0887"
             ],
             [
              0.1111111111111111,
              "#46039f"
             ],
             [
              0.2222222222222222,
              "#7201a8"
             ],
             [
              0.3333333333333333,
              "#9c179e"
             ],
             [
              0.4444444444444444,
              "#bd3786"
             ],
             [
              0.5555555555555556,
              "#d8576b"
             ],
             [
              0.6666666666666666,
              "#ed7953"
             ],
             [
              0.7777777777777778,
              "#fb9f3a"
             ],
             [
              0.8888888888888888,
              "#fdca26"
             ],
             [
              1,
              "#f0f921"
             ]
            ],
            "type": "histogram2d"
           }
          ],
          "histogram2dcontour": [
           {
            "colorbar": {
             "outlinewidth": 0,
             "ticks": ""
            },
            "colorscale": [
             [
              0,
              "#0d0887"
             ],
             [
              0.1111111111111111,
              "#46039f"
             ],
             [
              0.2222222222222222,
              "#7201a8"
             ],
             [
              0.3333333333333333,
              "#9c179e"
             ],
             [
              0.4444444444444444,
              "#bd3786"
             ],
             [
              0.5555555555555556,
              "#d8576b"
             ],
             [
              0.6666666666666666,
              "#ed7953"
             ],
             [
              0.7777777777777778,
              "#fb9f3a"
             ],
             [
              0.8888888888888888,
              "#fdca26"
             ],
             [
              1,
              "#f0f921"
             ]
            ],
            "type": "histogram2dcontour"
           }
          ],
          "mesh3d": [
           {
            "colorbar": {
             "outlinewidth": 0,
             "ticks": ""
            },
            "type": "mesh3d"
           }
          ],
          "parcoords": [
           {
            "line": {
             "colorbar": {
              "outlinewidth": 0,
              "ticks": ""
             }
            },
            "type": "parcoords"
           }
          ],
          "pie": [
           {
            "automargin": true,
            "type": "pie"
           }
          ],
          "scatter": [
           {
            "fillpattern": {
             "fillmode": "overlay",
             "size": 10,
             "solidity": 0.2
            },
            "type": "scatter"
           }
          ],
          "scatter3d": [
           {
            "line": {
             "colorbar": {
              "outlinewidth": 0,
              "ticks": ""
             }
            },
            "marker": {
             "colorbar": {
              "outlinewidth": 0,
              "ticks": ""
             }
            },
            "type": "scatter3d"
           }
          ],
          "scattercarpet": [
           {
            "marker": {
             "colorbar": {
              "outlinewidth": 0,
              "ticks": ""
             }
            },
            "type": "scattercarpet"
           }
          ],
          "scattergeo": [
           {
            "marker": {
             "colorbar": {
              "outlinewidth": 0,
              "ticks": ""
             }
            },
            "type": "scattergeo"
           }
          ],
          "scattergl": [
           {
            "marker": {
             "colorbar": {
              "outlinewidth": 0,
              "ticks": ""
             }
            },
            "type": "scattergl"
           }
          ],
          "scattermapbox": [
           {
            "marker": {
             "colorbar": {
              "outlinewidth": 0,
              "ticks": ""
             }
            },
            "type": "scattermapbox"
           }
          ],
          "scatterpolar": [
           {
            "marker": {
             "colorbar": {
              "outlinewidth": 0,
              "ticks": ""
             }
            },
            "type": "scatterpolar"
           }
          ],
          "scatterpolargl": [
           {
            "marker": {
             "colorbar": {
              "outlinewidth": 0,
              "ticks": ""
             }
            },
            "type": "scatterpolargl"
           }
          ],
          "scatterternary": [
           {
            "marker": {
             "colorbar": {
              "outlinewidth": 0,
              "ticks": ""
             }
            },
            "type": "scatterternary"
           }
          ],
          "surface": [
           {
            "colorbar": {
             "outlinewidth": 0,
             "ticks": ""
            },
            "colorscale": [
             [
              0,
              "#0d0887"
             ],
             [
              0.1111111111111111,
              "#46039f"
             ],
             [
              0.2222222222222222,
              "#7201a8"
             ],
             [
              0.3333333333333333,
              "#9c179e"
             ],
             [
              0.4444444444444444,
              "#bd3786"
             ],
             [
              0.5555555555555556,
              "#d8576b"
             ],
             [
              0.6666666666666666,
              "#ed7953"
             ],
             [
              0.7777777777777778,
              "#fb9f3a"
             ],
             [
              0.8888888888888888,
              "#fdca26"
             ],
             [
              1,
              "#f0f921"
             ]
            ],
            "type": "surface"
           }
          ],
          "table": [
           {
            "cells": {
             "fill": {
              "color": "#EBF0F8"
             },
             "line": {
              "color": "white"
             }
            },
            "header": {
             "fill": {
              "color": "#C8D4E3"
             },
             "line": {
              "color": "white"
             }
            },
            "type": "table"
           }
          ]
         },
         "layout": {
          "annotationdefaults": {
           "arrowcolor": "#2a3f5f",
           "arrowhead": 0,
           "arrowwidth": 1
          },
          "autotypenumbers": "strict",
          "coloraxis": {
           "colorbar": {
            "outlinewidth": 0,
            "ticks": ""
           }
          },
          "colorscale": {
           "diverging": [
            [
             0,
             "#8e0152"
            ],
            [
             0.1,
             "#c51b7d"
            ],
            [
             0.2,
             "#de77ae"
            ],
            [
             0.3,
             "#f1b6da"
            ],
            [
             0.4,
             "#fde0ef"
            ],
            [
             0.5,
             "#f7f7f7"
            ],
            [
             0.6,
             "#e6f5d0"
            ],
            [
             0.7,
             "#b8e186"
            ],
            [
             0.8,
             "#7fbc41"
            ],
            [
             0.9,
             "#4d9221"
            ],
            [
             1,
             "#276419"
            ]
           ],
           "sequential": [
            [
             0,
             "#0d0887"
            ],
            [
             0.1111111111111111,
             "#46039f"
            ],
            [
             0.2222222222222222,
             "#7201a8"
            ],
            [
             0.3333333333333333,
             "#9c179e"
            ],
            [
             0.4444444444444444,
             "#bd3786"
            ],
            [
             0.5555555555555556,
             "#d8576b"
            ],
            [
             0.6666666666666666,
             "#ed7953"
            ],
            [
             0.7777777777777778,
             "#fb9f3a"
            ],
            [
             0.8888888888888888,
             "#fdca26"
            ],
            [
             1,
             "#f0f921"
            ]
           ],
           "sequentialminus": [
            [
             0,
             "#0d0887"
            ],
            [
             0.1111111111111111,
             "#46039f"
            ],
            [
             0.2222222222222222,
             "#7201a8"
            ],
            [
             0.3333333333333333,
             "#9c179e"
            ],
            [
             0.4444444444444444,
             "#bd3786"
            ],
            [
             0.5555555555555556,
             "#d8576b"
            ],
            [
             0.6666666666666666,
             "#ed7953"
            ],
            [
             0.7777777777777778,
             "#fb9f3a"
            ],
            [
             0.8888888888888888,
             "#fdca26"
            ],
            [
             1,
             "#f0f921"
            ]
           ]
          },
          "colorway": [
           "#636efa",
           "#EF553B",
           "#00cc96",
           "#ab63fa",
           "#FFA15A",
           "#19d3f3",
           "#FF6692",
           "#B6E880",
           "#FF97FF",
           "#FECB52"
          ],
          "font": {
           "color": "#2a3f5f"
          },
          "geo": {
           "bgcolor": "white",
           "lakecolor": "white",
           "landcolor": "#E5ECF6",
           "showlakes": true,
           "showland": true,
           "subunitcolor": "white"
          },
          "hoverlabel": {
           "align": "left"
          },
          "hovermode": "closest",
          "mapbox": {
           "style": "light"
          },
          "paper_bgcolor": "white",
          "plot_bgcolor": "#E5ECF6",
          "polar": {
           "angularaxis": {
            "gridcolor": "white",
            "linecolor": "white",
            "ticks": ""
           },
           "bgcolor": "#E5ECF6",
           "radialaxis": {
            "gridcolor": "white",
            "linecolor": "white",
            "ticks": ""
           }
          },
          "scene": {
           "xaxis": {
            "backgroundcolor": "#E5ECF6",
            "gridcolor": "white",
            "gridwidth": 2,
            "linecolor": "white",
            "showbackground": true,
            "ticks": "",
            "zerolinecolor": "white"
           },
           "yaxis": {
            "backgroundcolor": "#E5ECF6",
            "gridcolor": "white",
            "gridwidth": 2,
            "linecolor": "white",
            "showbackground": true,
            "ticks": "",
            "zerolinecolor": "white"
           },
           "zaxis": {
            "backgroundcolor": "#E5ECF6",
            "gridcolor": "white",
            "gridwidth": 2,
            "linecolor": "white",
            "showbackground": true,
            "ticks": "",
            "zerolinecolor": "white"
           }
          },
          "shapedefaults": {
           "line": {
            "color": "#2a3f5f"
           }
          },
          "ternary": {
           "aaxis": {
            "gridcolor": "white",
            "linecolor": "white",
            "ticks": ""
           },
           "baxis": {
            "gridcolor": "white",
            "linecolor": "white",
            "ticks": ""
           },
           "bgcolor": "#E5ECF6",
           "caxis": {
            "gridcolor": "white",
            "linecolor": "white",
            "ticks": ""
           }
          },
          "title": {
           "x": 0.05
          },
          "xaxis": {
           "automargin": true,
           "gridcolor": "white",
           "linecolor": "white",
           "ticks": "",
           "title": {
            "standoff": 15
           },
           "zerolinecolor": "white",
           "zerolinewidth": 2
          },
          "yaxis": {
           "automargin": true,
           "gridcolor": "white",
           "linecolor": "white",
           "ticks": "",
           "title": {
            "standoff": 15
           },
           "zerolinecolor": "white",
           "zerolinewidth": 2
          }
         }
        },
        "width": 1200,
        "xaxis": {
         "anchor": "y",
         "domain": [
          0,
          1
         ]
        },
        "xaxis2": {
         "anchor": "y2",
         "domain": [
          0,
          1
         ]
        },
        "yaxis": {
         "anchor": "x",
         "domain": [
          0.54,
          1
         ]
        },
        "yaxis2": {
         "anchor": "x2",
         "domain": [
          0,
          0.46
         ]
        }
       }
      }
     },
     "metadata": {},
     "output_type": "display_data"
    },
    {
     "name": "stdout",
     "output_type": "stream",
     "text": [
      "Year Level DataFrame (Pivoted):\n",
      "연도   2021년  2022년  2023년  2024년(E)\n",
      "매출액  72399  76678  54363     61275\n",
      "총자산  30687  29873  29656     29669\n",
      "\n",
      "Year Rate DataFrame (Pivoted):\n",
      "연도      2021년  2022년  2023년  2024년(E)\n",
      "매출액증가율  21.16   5.91 -29.10     12.71\n",
      "총자산증가율  -5.99  -2.65  -0.73      0.04\n",
      "\n",
      "Recent DataFrame (Pivoted):\n",
      "월                2023-09   2023-10   2023-11   2023-12   2024-01   2024-02  \\\n",
      "누적 매출액증가율         -20.33    -24.07    -30.53    -29.10    -25.26    -21.30   \n",
      "매출액              2846.00   3451.00   3189.00   9196.00   4827.00   1605.00   \n",
      "매출액증가율             36.96    -37.07    -63.72     16.26     16.59    -40.07   \n",
      "전년 동월 매출액        2078.00   5484.00   8790.00   7910.00   4140.00   2678.00   \n",
      "전년동월 누적 매출액     76199.00  77281.00  76402.00  76678.00  73655.00  68587.00   \n",
      "최근 12개월 누적 매출액  60711.00  58678.00  53077.00  54363.00  55050.00  53977.00   \n",
      "\n",
      "월                2024-03   2024-04   2024-05   2024-06   2024-07   2024-08  \n",
      "누적 매출액증가율         -26.36    -25.87     -9.46     -8.65     -7.12     -0.69  \n",
      "매출액              6428.00   8618.00   9256.00   7029.00   2085.00   1002.00  \n",
      "매출액증가율             -2.87     16.04    251.40      2.43    -48.10    -23.22  \n",
      "전년 동월 매출액        6618.00   7427.00   2634.00   6862.00   4017.00   1305.00  \n",
      "전년동월 누적 매출액     73043.00  74160.00  68033.00  67616.00  64419.00  59943.00  \n",
      "최근 12개월 누적 매출액  53787.00  54978.00  61600.00  61767.00  59835.00  59532.00  \n",
      "\n",
      "Company_1에 대한 AI 답변:\n",
      "2024년 9월 기준으로, 총자산은 29,669백만 원으로 2023년의 29,656백만 원과 비슷한 수준을 유지하고 있으며, 매출액은 61,275백만 원으로 2023년의 54,363백만 원에 비해 증가했습니다. 그러나 2023년의 매출액 증가율은 -29.1%로 큰 감소세를 보였고, 2024년 예상치에서는 12.71%의 증가율이 나타나 긍정적인 변화가 기대됩니다. 최근 12개월 누적 매출액은 59,532백만 원으로 전년 동기 대비 -0.69% 감소했지만, 2024년 5월에는 매출액이 9,256백만 원으로 전년 동월 대비 251.4% 증가하는 등 일부 월에서는 급격한 회복세를 보이고 있습니다."
     ]
    }
   ],
   "source": [
    "# 10개 회사 sample\n",
    "company_list = df_company_info['기업명'].unique()[:1]\n",
    "\n",
    "for firm in company_list:\n",
    "    print(\"\\n\\n\",'#'*10, f'{firm}', '#'*10)\n",
    "    temp = df_company_info[df_company_info['기업명'] == firm]\n",
    "    \n",
    "    # 성장성 지표 JSON 데이터 생성\n",
    "    growth_data = preprocess_growth_data(temp)  # 이전 코드에서 생성된 성장성 지표 데이터\n",
    "    \n",
    "    json_to_dataframe_plotly(growth_data)\n",
    "    \n",
    "    # 성장성 지표에 대한 분석 요청\n",
    "    result = growth_analysis_chain.stream({\n",
    "        \"latest_year_month\": growth_data[\"latest_year_month\"],\n",
    "        \"year_level_data\": growth_data[\"year_level_data\"],\n",
    "        \"year_rate_data\": growth_data[\"year_rate_data\"],\n",
    "        \"recent_data\": growth_data[\"recent_data\"]\n",
    "    })\n",
    "\n",
    "    # Streaming\n",
    "    print( f\"\\n{firm}에 대한 AI 답변:\")\n",
    "    stream_response(result)"
   ]
  },
  {
   "cell_type": "code",
   "execution_count": null,
   "metadata": {},
   "outputs": [],
   "source": []
  },
  {
   "cell_type": "code",
   "execution_count": null,
   "metadata": {},
   "outputs": [],
   "source": []
  },
  {
   "cell_type": "code",
   "execution_count": null,
   "metadata": {},
   "outputs": [],
   "source": []
  },
  {
   "cell_type": "code",
   "execution_count": null,
   "metadata": {},
   "outputs": [],
   "source": []
  },
  {
   "cell_type": "code",
   "execution_count": null,
   "metadata": {},
   "outputs": [],
   "source": []
  },
  {
   "cell_type": "code",
   "execution_count": null,
   "metadata": {},
   "outputs": [],
   "source": []
  },
  {
   "cell_type": "code",
   "execution_count": null,
   "metadata": {},
   "outputs": [],
   "source": []
  }
 ],
 "metadata": {
  "kernelspec": {
   "display_name": "langchain-kr--MicMCEo-py3.11",
   "language": "python",
   "name": "python3"
  },
  "language_info": {
   "codemirror_mode": {
    "name": "ipython",
    "version": 3
   },
   "file_extension": ".py",
   "mimetype": "text/x-python",
   "name": "python",
   "nbconvert_exporter": "python",
   "pygments_lexer": "ipython3",
   "version": "3.11.9"
  }
 },
 "nbformat": 4,
 "nbformat_minor": 2
}
