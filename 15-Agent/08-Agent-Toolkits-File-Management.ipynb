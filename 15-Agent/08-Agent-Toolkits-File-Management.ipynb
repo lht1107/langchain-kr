{
 "cells": [
  {
   "cell_type": "markdown",
   "metadata": {},
   "source": [
    "# Toolkits 활용 Agent\n",
    "\n",
    "LangChain 프레임워크를 사용하는 가장 큰 이점은 3rd-party integration 되어 있는 다양한 기능들입니다.\n",
    "\n",
    "그 중 Toolkits 는 다양한 도구를 통합하여 제공합니다.\n",
    "\n",
    "아래 링크에서 다양한 Tools/Toolkits 를 확인할 수 있습니다.\n",
    "\n",
    "**참고**\n",
    "\n",
    "- [Agent Toolkits](https://api.python.langchain.com/en/latest/community/agent_toolkits.html)\n",
    "\n",
    "- [Tools](https://python.langchain.com/docs/integrations/tools/)"
   ]
  },
  {
   "cell_type": "code",
   "execution_count": 2,
   "metadata": {},
   "outputs": [
    {
     "data": {
      "text/plain": [
       "True"
      ]
     },
     "execution_count": 2,
     "metadata": {},
     "output_type": "execute_result"
    }
   ],
   "source": [
    "# API 키를 환경변수로 관리하기 위한 설정 파일\n",
    "from dotenv import load_dotenv\n",
    "\n",
    "# API 키 정보 로드\n",
    "load_dotenv()"
   ]
  },
  {
   "cell_type": "code",
   "execution_count": 3,
   "metadata": {},
   "outputs": [
    {
     "name": "stdout",
     "output_type": "stream",
     "text": [
      "LangSmith 추적을 시작합니다.\n",
      "[프로젝트명]\n",
      "CH15-Agent-Toolkits\n"
     ]
    }
   ],
   "source": [
    "# LangSmith 추적을 설정합니다. https://smith.langchain.com\n",
    "# !pip install -qU langchain-teddynote\n",
    "from langchain_teddynote import logging\n",
    "\n",
    "# 프로젝트 이름을 입력합니다.\n",
    "logging.langsmith(\"CH15-Agent-Toolkits\")"
   ]
  },
  {
   "cell_type": "markdown",
   "metadata": {},
   "source": [
    "먼저, 임시 폴더인 `tmp` 를 생성합니다."
   ]
  },
  {
   "cell_type": "code",
   "execution_count": 4,
   "metadata": {},
   "outputs": [],
   "source": [
    "import os\n",
    "\n",
    "if not os.path.exists(\"tmp\"):\n",
    "    os.mkdir(\"tmp\")"
   ]
  },
  {
   "cell_type": "markdown",
   "metadata": {},
   "source": [
    "## FileManagementToolkit\n",
    "\n",
    "`FileManagementToolkit` 는 로컬 파일 관리를 위한 도구 모음입니다. \n",
    "\n",
    "### 주요 구성 요소\n",
    "\n",
    "**파일 관리 도구들**\n",
    "\n",
    "- `CopyFileTool`: 파일 복사\n",
    "  \n",
    "- `DeleteFileTool`: 파일 삭제\n",
    "\n",
    "- `FileSearchTool`: 파일 검색\n",
    "\n",
    "- `MoveFileTool`: 파일 이동\n",
    "\n",
    "- `ReadFileTool`: 파일 읽기\n",
    "\n",
    "- `WriteFileTool`: 파일 쓰기\n",
    "\n",
    "- `ListDirectoryTool`: 디렉토리 목록 조회\n",
    "\n",
    "**설정**\n",
    "\n",
    "- `root_dir`: 파일 작업의 루트 디렉토리 설정 가능\n",
    "\n",
    "- `selected_tools`: 특정 도구만 선택적으로 사용 가능\n",
    "\n",
    "\n",
    "**동적 도구 생성**\n",
    "\n",
    "- `get_tools` 메서드로 선택된 도구들의 인스턴스 생성\n",
    "\n",
    "\n",
    "이 `FileManagementToolkit`은 로컬 파일 관리 작업을 자동화하거나 AI 에이전트에게 파일 조작 능력을 부여할 때 유용하게 사용할 수 있습니다. 단, 보안 측면에서 신중한 접근이 필요합니다."
   ]
  },
  {
   "cell_type": "code",
   "execution_count": 8,
   "metadata": {},
   "outputs": [
    {
     "name": "stdout",
     "output_type": "stream",
     "text": [
      "[사용 가능한 파일 관리 도구들]\n",
      "- copy_file: Create a copy of a file in a specified location\n",
      "- file_delete: Delete a file\n",
      "- file_search: Recursively search for files in a subdirectory that match the regex pattern\n",
      "- move_file: Move or rename a file from one location to another\n",
      "- read_file: Read file from disk\n",
      "- write_file: Write file to disk\n",
      "- list_directory: List files and directories in a specified folder\n"
     ]
    }
   ],
   "source": [
    "# FileManagementToolkit을 가져옵니다. 이 도구는 파일 관리 작업을 수행하는 데 사용됩니다.\n",
    "from langchain_community.agent_toolkits import FileManagementToolkit\n",
    "\n",
    "# 'tmp'라는 이름의 디렉토리를 작업 디렉토리로 설정합니다.\n",
    "working_directory = \"tmp\"\n",
    "\n",
    "# FileManagementToolkit 객체를 생성합니다.\n",
    "# root_dir 매개변수에 작업 디렉토리를 지정하여 모든 파일 작업이 이 디렉토리 내에서 이루어지도록 합니다.\n",
    "toolkit = FileManagementToolkit(root_dir=str(working_directory))\n",
    "\n",
    "# toolkit.get_tools() 메서드를 호출하여 사용 가능한 모든 파일 관리 도구를 가져옵니다.\n",
    "# 이 도구들은 파일 복사, 삭제, 검색, 이동, 읽기, 쓰기, 디렉토리 목록 조회 등의 기능을 제공합니다.\n",
    "available_tools = toolkit.get_tools()\n",
    "\n",
    "# 사용 가능한 도구들의 이름을 출력합니다.\n",
    "print(\"[사용 가능한 파일 관리 도구들]\")\n",
    "for tool in available_tools:\n",
    "    print(f\"- {tool.name}: {tool.description}\")"
   ]
  },
  {
   "cell_type": "code",
   "execution_count": 9,
   "metadata": {},
   "outputs": [
    {
     "data": {
      "text/plain": [
       "[ReadFileTool(root_dir='tmp'),\n",
       " DeleteFileTool(root_dir='tmp'),\n",
       " WriteFileTool(root_dir='tmp'),\n",
       " ListDirectoryTool(root_dir='tmp')]"
      ]
     },
     "execution_count": 9,
     "metadata": {},
     "output_type": "execute_result"
    }
   ],
   "source": [
    "# 도구 중 일부만 지정하여 선택하는 것도 가능합니다\n",
    "tools = FileManagementToolkit(\n",
    "    root_dir=str(working_directory),\n",
    "    selected_tools=[\"read_file\", \"file_delete\", \"write_file\", \"list_directory\"],\n",
    ").get_tools()\n",
    "tools"
   ]
  },
  {
   "cell_type": "code",
   "execution_count": 19,
   "metadata": {},
   "outputs": [
    {
     "data": {
      "text/plain": [
       "'File written successfully to example.txt.'"
      ]
     },
     "execution_count": 19,
     "metadata": {},
     "output_type": "execute_result"
    }
   ],
   "source": [
    "read_tool, delete_tool, write_tool, list_tool = tools\n",
    "\n",
    "# 파일 쓰기\n",
    "write_tool.invoke({\"file_path\": \"example.txt\", \"text\": \"Hello World!\"})"
   ]
  },
  {
   "cell_type": "code",
   "execution_count": 20,
   "metadata": {},
   "outputs": [
    {
     "name": "stdout",
     "output_type": "stream",
     "text": [
      "example.txt\n"
     ]
    }
   ],
   "source": [
    "# 파일 목록 조회\n",
    "print(list_tool.invoke({}))"
   ]
  },
  {
   "cell_type": "code",
   "execution_count": 21,
   "metadata": {},
   "outputs": [
    {
     "name": "stdout",
     "output_type": "stream",
     "text": [
      "File deleted successfully: example.txt.\n"
     ]
    }
   ],
   "source": [
    "# 파일 삭제\n",
    "print(delete_tool.invoke({\"file_path\": \"example.txt\"}))"
   ]
  },
  {
   "cell_type": "code",
   "execution_count": 22,
   "metadata": {},
   "outputs": [
    {
     "name": "stdout",
     "output_type": "stream",
     "text": [
      "No files found in directory .\n"
     ]
    }
   ],
   "source": [
    "# 파일 목록 조회\n",
    "print(list_tool.invoke({}))"
   ]
  },
  {
   "cell_type": "code",
   "execution_count": 24,
   "metadata": {},
   "outputs": [
    {
     "data": {
      "text/plain": [
       "[CopyFileTool(root_dir='tmp'),\n",
       " DeleteFileTool(root_dir='tmp'),\n",
       " FileSearchTool(root_dir='tmp'),\n",
       " MoveFileTool(root_dir='tmp'),\n",
       " ReadFileTool(root_dir='tmp'),\n",
       " WriteFileTool(root_dir='tmp'),\n",
       " ListDirectoryTool(root_dir='tmp'),\n",
       " StructuredTool(name='latest_news', description='Look up latest news', args_schema=<class 'pydantic.v1.main.latest_newsSchema'>, func=<function latest_news at 0x167431300>)]"
      ]
     },
     "execution_count": 24,
     "metadata": {},
     "output_type": "execute_result"
    }
   ],
   "source": [
    "# 필요한 모듈과 클래스를 임포트합니다.\n",
    "from langchain.tools import tool\n",
    "from typing import List, Dict\n",
    "from langchain_teddynote.tools import GoogleNews\n",
    "\n",
    "\n",
    "# 최신 뉴스 검색 도구를 정의합니다.\n",
    "@tool\n",
    "def latest_news(k: int = 5) -> List[Dict[str, str]]:\n",
    "    \"\"\"Look up latest news\"\"\"\n",
    "    # GoogleNews 객체를 생성합니다.\n",
    "    news_tool = GoogleNews()\n",
    "    # 최신 뉴스를 검색하고 결과를 반환합니다. k는 반환할 뉴스 항목의 수입니다.\n",
    "    return news_tool.search_latest(k=k)\n",
    "\n",
    "\n",
    "# FileManagementToolkit을 사용하여 파일 관리 도구들을 가져옵니다.\n",
    "tools = FileManagementToolkit(\n",
    "    root_dir=str(working_directory),\n",
    ").get_tools()\n",
    "\n",
    "# 최신 뉴스 검색 도구를 tools 리스트에 추가합니다.\n",
    "tools.append(latest_news)\n",
    "\n",
    "# 모든 도구들이 포함된 tools 리스트를 출력합니다.\n",
    "tools"
   ]
  },
  {
   "cell_type": "code",
   "execution_count": 33,
   "metadata": {},
   "outputs": [],
   "source": [
    "from langchain_core.prompts import ChatPromptTemplate\n",
    "from langchain_openai import ChatOpenAI\n",
    "from langchain.agents import create_tool_calling_agent, AgentExecutor\n",
    "from langchain_community.chat_message_histories import ChatMessageHistory\n",
    "from langchain_core.runnables.history import RunnableWithMessageHistory\n",
    "from langchain_teddynote.messages import AgentStreamParser\n",
    "\n",
    "# session_id 를 저장할 딕셔너리 생성\n",
    "store = {}\n",
    "\n",
    "# 프롬프트 생성\n",
    "# 프롬프트는 에이전트에게 모델이 수행할 작업을 설명하는 텍스트를 제공합니다. (도구의 이름과 역할을 입력)\n",
    "prompt = ChatPromptTemplate.from_messages(\n",
    "    [\n",
    "        (\n",
    "            \"system\",\n",
    "            \"You are a helpful assistant. \"\n",
    "            \"Make sure to use the `latest_news` tool to find latest news. \"\n",
    "            \"Make sure to use the `file_management` tool to manage files. \",\n",
    "        ),\n",
    "        (\"placeholder\", \"{chat_history}\"),\n",
    "        (\"human\", \"{input}\"),\n",
    "        (\"placeholder\", \"{agent_scratchpad}\"),\n",
    "    ]\n",
    ")\n",
    "\n",
    "# LLM 생성\n",
    "llm = ChatOpenAI(model=\"gpt-4o-mini\")\n",
    "\n",
    "# Agent 생성\n",
    "agent = create_tool_calling_agent(llm, tools, prompt)\n",
    "\n",
    "# AgentExecutor 생성\n",
    "agent_executor = AgentExecutor(\n",
    "    agent=agent,\n",
    "    tools=tools,\n",
    "    verbose=False,\n",
    "    handle_parsing_errors=True,\n",
    ")\n",
    "\n",
    "\n",
    "# session_id 를 기반으로 세션 기록을 가져오는 함수\n",
    "def get_session_history(session_ids):\n",
    "    if session_ids not in store:  # session_id 가 store에 없는 경우\n",
    "        # 새로운 ChatMessageHistory 객체를 생성하여 store에 저장\n",
    "        store[session_ids] = ChatMessageHistory()\n",
    "    return store[session_ids]  # 해당 세션 ID에 대한 세션 기록 반환\n",
    "\n",
    "\n",
    "# 채팅 메시지 기록이 추가된 에이전트를 생성합니다.\n",
    "agent_with_chat_history = RunnableWithMessageHistory(\n",
    "    agent_executor,\n",
    "    # 대화 session_id\n",
    "    get_session_history,\n",
    "    # 프롬프트의 질문이 입력되는 key: \"input\"\n",
    "    input_messages_key=\"input\",\n",
    "    # 프롬프트의 메시지가 입력되는 key: \"chat_history\"\n",
    "    history_messages_key=\"chat_history\",\n",
    ")\n",
    "\n",
    "agent_stream_parser = AgentStreamParser()"
   ]
  },
  {
   "cell_type": "code",
   "execution_count": 34,
   "metadata": {},
   "outputs": [
    {
     "name": "stdout",
     "output_type": "stream",
     "text": [
      "Agent 실행 결과:\n",
      "[도구 호출]\n",
      "Tool: latest_news\n",
      "k: 5\n",
      "Log: \n",
      "Invoking: `latest_news` with `{'k': 5}`\n",
      "\n",
      "\n",
      "\n",
      "[관찰 내용]\n",
      "Observation: [{'url': 'https://news.google.com/rss/articles/CBMiZkFVX3lxTE55OWlTNnNaWi03N2FoQThLRHM4aktxNmZNenA5czJPMmhmWFZ0WFUxUXZXQ09EUnZCREdULVlGOGYxVElUanJoRFR6aHdCNWQxNk1GQ2x2Y2stX1YxTXN0S2d2WFI2Zw?oc=5', 'content': '조규홍 복지장관 “의대 5년 단축, 교육부와 사전 협의 없어” - 한겨레'}, {'url': 'https://news.google.com/rss/articles/CBMiZkFVX3lxTFBTTTVXZjRhUzZ0SFRCdWhLRE9VcnFwQVRCNkZ0ZlFjMzNBMjB5Yk5sMmhqRzBEMElVZ2tteXdCZmVRRFFNLXZRY0luVnFKM1VmdUtjaWF1WW4tYzNPOHNkeWFVNHFLZw?oc=5', 'content': '한-필리핀 정상회담…“‘전략적 동반자 관계’ 수립” - KBS뉴스'}, {'url': 'https://news.google.com/rss/articles/CBMieEFVX3lxTE9GTHhYbkNwbC1pYW9UbnlDMExQVkhKRWFnSHFaUUR0S0hyX05oRGZMbkp4YkZaRHNwYU92VDFMNVNpQV81dElxdGJaTEdwWDhtNWRsb3lQN21HS1Z6ZFl2TTlCU2FsZ1k3dHNxY2lSampMdUlKLXg5d9IBeEFVX3lxTE91MmdsUUhRRnV1MnFFb1VfNWVGTkpyeHlka0dXblVZWnpXRk1XNkMtRU9vVVJUNGQ4NWVobXRuSkRJZE5Tc0NjdnN1amJtMElJaWFIRVZraFppYUFOS05JOGlKUi04RGVNeE5OQ1hhUm4yenFWbzd2RQ?oc=5', 'content': '국회 국정감사 시작‥상임위 곳곳서 여야 충돌 - MBC 뉴스'}, {'url': 'https://news.google.com/rss/articles/CBMiYEFVX3lxTE5aRmIzTzdqT1FaQmVrZUY2SlhMRzNKbUNOM05EbGk0SXhUTkk1bGgxNzRTSmN2RWdRSFh4QlVWODI0RUk5WUhZZkJWWkEwQWpEMkU1OFhuY0ExOEhjT2pnUA?oc=5', 'content': \"[속보]경찰, '공직선거법 위반 혐의' 尹대통령 불송치할 듯 - KBC광주방송\"}, {'url': 'https://news.google.com/rss/articles/CBMieEFVX3lxTE5fbk5wQl9TdEg4UnlRb2xUZHdBQ0hIV21uaktJbE9zSC14UU5jaktKOGhDODdmWWtKMHliOUpkNTU2NnY0UHN4Z3VJUjFpdGs4S0k0R1M1OE92b0pKNUVXbzBqQVc1d1c5MVhfZ1R6OFpYa1J6NVI2QdIBeEFVX3lxTE1uaVNNMGtwcUxPUWRYZllLXzVSaDFtZEQ4WW9Pb05fZGg1dl96SWRMMHk3Tms0MkZtWmRUMXNoanlQRTA5bGFnUjhGM185YnJBcWJfTmotaDl4SGhxY1ZGTnJxTFpYQ0plVVFhTF9zQVJCRE5Sa2pQUw?oc=5', 'content': '법사위, 이재명 재판 두고 공방‥여당 \"재판 서둘러야\"-야당 \"위법수사\" - MBC 뉴스'}]\n",
      "[도구 호출]\n",
      "Tool: write_file\n",
      "file_path: 조규홍 복지장관 “의대 5년 단축, 교육부와 사전 협의 없어”.txt\n",
      "text: 조규홍 복지장관 “의대 5년 단축, 교육부와 사전 협의 없어”\n",
      "\n",
      "URL: https://news.google.com/rss/articles/CBMiZkFVX3lxTE55OWlTNnNaWi03N2FoQThLRHM4aktxNmZNenA5czJPMmhmWFZ0WFUxUXZXQ09EUnZCREdULVlGOGYxVElUanJoRFR6aHdCNWQxNk1GQ2x2Y2stX1YxTXN0S2d2WFI2Zw?oc=5\n",
      "append: False\n",
      "Log: \n",
      "Invoking: `write_file` with `{'file_path': '조규홍 복지장관 “의대 5년 단축, 교육부와 사전 협의 없어”.txt', 'text': '조규홍 복지장관 “의대 5년 단축, 교육부와 사전 협의 없어”\\n\\nURL: https://news.google.com/rss/articles/CBMiZkFVX3lxTE55OWlTNnNaWi03N2FoQThLRHM4aktxNmZNenA5czJPMmhmWFZ0WFUxUXZXQ09EUnZCREdULVlGOGYxVElUanJoRFR6aHdCNWQxNk1GQ2x2Y2stX1YxTXN0S2d2WFI2Zw?oc=5', 'append': False}`\n",
      "\n",
      "\n",
      "\n",
      "[도구 호출]\n",
      "Tool: write_file\n",
      "file_path: 한-필리핀 정상회담…“‘전략적 동반자 관계’ 수립”.txt\n",
      "text: 한-필리핀 정상회담…“‘전략적 동반자 관계’ 수립”\n",
      "\n",
      "URL: https://news.google.com/rss/articles/CBMiZkFVX3lxTFBTTTVXZjRhUzZ0SFRCdWhLRE9VcnFwQVRCNkZ0ZlFjMzNBMjB5Yk5sMmhqRzBEMElVZ2tteXdCZmVRRFFNLXZRY0luVnFKM1VmdUtjaWF1WW4tYzNPOHNkeWFVNHFLZw?oc=5\n",
      "append: False\n",
      "Log: \n",
      "Invoking: `write_file` with `{'file_path': '한-필리핀 정상회담…“‘전략적 동반자 관계’ 수립”.txt', 'text': '한-필리핀 정상회담…“‘전략적 동반자 관계’ 수립”\\n\\nURL: https://news.google.com/rss/articles/CBMiZkFVX3lxTFBTTTVXZjRhUzZ0SFRCdWhLRE9VcnFwQVRCNkZ0ZlFjMzNBMjB5Yk5sMmhqRzBEMElVZ2tteXdCZmVRRFFNLXZRY0luVnFKM1VmdUtjaWF1WW4tYzNPOHNkeWFVNHFLZw?oc=5', 'append': False}`\n",
      "\n",
      "\n",
      "\n",
      "[도구 호출]\n",
      "Tool: write_file\n",
      "file_path: 국회 국정감사 시작‥상임위 곳곳서 여야 충돌.txt\n",
      "text: 국회 국정감사 시작‥상임위 곳곳서 여야 충돌\n",
      "\n",
      "URL: https://news.google.com/rss/articles/CBMieEFVX3lxTE9GTHhYbkNwbC1pYW9UbnlDMExQVkhKRWFnSHFaUUR0S0hyX05oRGZMbkp4YkZaRHNwYU92VDFMNVNpQV81dElxdGJaTEdwWDhtNWRsb3lQN21HS1Z6ZFl2TTlCU2FsZ1k3dHNxY2lSampMdUlKLXg5d9IBeEFVX3lxTE91MmdsUUhRRnV1MnFFb1VfNWVGTkpyeHlka0dXblVZWnpXRk1XNkMtRU9vVVJUNGQ4NWVobXRuSkRJZE5Tc0NjdnN1amJtMElJaWFIRVZraFppYUFOS05JOGlKUi04RGVNeE5OQ1hhUm4yenFWbzd2RQ?oc=5\n",
      "append: False\n",
      "Log: \n",
      "Invoking: `write_file` with `{'file_path': '국회 국정감사 시작‥상임위 곳곳서 여야 충돌.txt', 'text': '국회 국정감사 시작‥상임위 곳곳서 여야 충돌\\n\\nURL: https://news.google.com/rss/articles/CBMieEFVX3lxTE9GTHhYbkNwbC1pYW9UbnlDMExQVkhKRWFnSHFaUUR0S0hyX05oRGZMbkp4YkZaRHNwYU92VDFMNVNpQV81dElxdGJaTEdwWDhtNWRsb3lQN21HS1Z6ZFl2TTlCU2FsZ1k3dHNxY2lSampMdUlKLXg5d9IBeEFVX3lxTE91MmdsUUhRRnV1MnFFb1VfNWVGTkpyeHlka0dXblVZWnpXRk1XNkMtRU9vVVJUNGQ4NWVobXRuSkRJZE5Tc0NjdnN1amJtMElJaWFIRVZraFppYUFOS05JOGlKUi04RGVNeE5OQ1hhUm4yenFWbzd2RQ?oc=5', 'append': False}`\n",
      "\n",
      "\n",
      "\n",
      "[도구 호출]\n",
      "Tool: write_file\n",
      "file_path: [속보]경찰, '공직선거법 위반 혐의' 尹대통령 불송치할 듯.txt\n",
      "text: [속보]경찰, '공직선거법 위반 혐의' 尹대통령 불송치할 듯\n",
      "\n",
      "URL: https://news.google.com/rss/articles/CBMiYEFVX3lxTE5aRmIzTzdqT1FaQmVrZUY2SlhMRzNKbUNOM05EbGk0SXhUTkk1bGgxNzRTSmN2RWdRSFh4QlVWODI0RUk5WUhZZkJWWkEwQWpEMkU1OFhuY0ExOEhjT2pnUA?oc=5\n",
      "append: False\n",
      "Log: \n",
      "Invoking: `write_file` with `{'file_path': \"[속보]경찰, '공직선거법 위반 혐의' 尹대통령 불송치할 듯.txt\", 'text': \"[속보]경찰, '공직선거법 위반 혐의' 尹대통령 불송치할 듯\\n\\nURL: https://news.google.com/rss/articles/CBMiYEFVX3lxTE5aRmIzTzdqT1FaQmVrZUY2SlhMRzNKbUNOM05EbGk0SXhUTkk1bGgxNzRTSmN2RWdRSFh4QlVWODI0RUk5WUhZZkJWWkEwQWpEMkU1OFhuY0ExOEhjT2pnUA?oc=5\", 'append': False}`\n",
      "\n",
      "\n",
      "\n",
      "[도구 호출]\n",
      "Tool: write_file\n",
      "file_path: 법사위, 이재명 재판 두고 공방‥여당 \"재판 서둘러야\"-야당 \"위법수사\".txt\n",
      "text: 법사위, 이재명 재판 두고 공방‥여당 \"재판 서둘러야\"-야당 \"위법수사\"\n",
      "\n",
      "URL: https://news.google.com/rss/articles/CBMieEFVX3lxTE5fbk5wQl9TdEg4UnlRb2xUZHdBQ0hIV21uaktJbE9zSC14UU5jaktKOGhDODdmWWtKMHliOUpkNTU2NnY0UHN4Z3VJUjFpdGs4S0k0R1M1OE92b0pKNUVXbzBqQVc1d1c5MVhfZ1R6OFpYa1J6NVI2QdIBeEFVX3lxTE1uaVNNMGtwcUxPUWRYZllLXzVSaDFtZEQ4WW9Pb05fZGg1dl96SWRMMHk3Tms0MkZtWmRUMXNoanlQRTA5bGFnUjhGM185YnJBcWJfTmotaDl4SGhxY1ZGTnJxTFpYQ0plVVFhTF9zQVJCRE5Sa2pQUw?oc=5\n",
      "append: False\n",
      "Log: \n",
      "Invoking: `write_file` with `{'file_path': '법사위, 이재명 재판 두고 공방‥여당 \"재판 서둘러야\"-야당 \"위법수사\".txt', 'text': '법사위, 이재명 재판 두고 공방‥여당 \"재판 서둘러야\"-야당 \"위법수사\"\\n\\nURL: https://news.google.com/rss/articles/CBMieEFVX3lxTE5fbk5wQl9TdEg4UnlRb2xUZHdBQ0hIV21uaktJbE9zSC14UU5jaktKOGhDODdmWWtKMHliOUpkNTU2NnY0UHN4Z3VJUjFpdGs4S0k0R1M1OE92b0pKNUVXbzBqQVc1d1c5MVhfZ1R6OFpYa1J6NVI2QdIBeEFVX3lxTE1uaVNNMGtwcUxPUWRYZllLXzVSaDFtZEQ4WW9Pb05fZGg1dl96SWRMMHk3Tms0MkZtWmRUMXNoanlQRTA5bGFnUjhGM185YnJBcWJfTmotaDl4SGhxY1ZGTnJxTFpYQ0plVVFhTF9zQVJCRE5Sa2pQUw?oc=5', 'append': False}`\n",
      "\n",
      "\n",
      "\n",
      "[관찰 내용]\n",
      "Observation: File written successfully to 조규홍 복지장관 “의대 5년 단축, 교육부와 사전 협의 없어”.txt.\n",
      "[관찰 내용]\n",
      "Observation: File written successfully to 한-필리핀 정상회담…“‘전략적 동반자 관계’ 수립”.txt.\n",
      "[관찰 내용]\n",
      "Observation: File written successfully to 국회 국정감사 시작‥상임위 곳곳서 여야 충돌.txt.\n",
      "[관찰 내용]\n",
      "Observation: File written successfully to [속보]경찰, '공직선거법 위반 혐의' 尹대통령 불송치할 듯.txt.\n",
      "[관찰 내용]\n",
      "Observation: File written successfully to 법사위, 이재명 재판 두고 공방‥여당 \"재판 서둘러야\"-야당 \"위법수사\".txt.\n",
      "[최종 답변]\n",
      "최신 뉴스 5개의 제목을 파일명으로 하여 파일을 생성했습니다. 각 파일에는 뉴스의 내용과 URL이 포함되어 있습니다. 생성된 파일 목록은 다음과 같습니다:\n",
      "\n",
      "1. **조규홍 복지장관 “의대 5년 단축, 교육부와 사전 협의 없어”.txt**\n",
      "2. **한-필리핀 정상회담…“‘전략적 동반자 관계’ 수립”.txt**\n",
      "3. **국회 국정감사 시작‥상임위 곳곳서 여야 충돌.txt**\n",
      "4. **[속보]경찰, '공직선거법 위반 혐의' 尹대통령 불송치할 듯.txt**\n",
      "5. **법사위, 이재명 재판 두고 공방‥여당 \"재판 서둘러야\"-야당 \"위법수사\".txt**\n",
      "\n",
      "이 파일들은 요청에 따라 생성되었으며, 내용은 각 뉴스의 핵심과 URL을 포함하고 있습니다. 추가로 필요한 작업이 있으면 말씀해 주세요!\n"
     ]
    }
   ],
   "source": [
    "result = agent_with_chat_history.stream(\n",
    "    {\n",
    "        \"input\": \"최신 뉴스 5개를 검색하고, 각 뉴스의 제목을 파일명으로 가지는 파일을 생성하고(.txt), \"\n",
    "        \"파일의 내용은 뉴스의 내용과 url을 추가하세요. \"\n",
    "    },\n",
    "    config={\"configurable\": {\"session_id\": \"abc123\"}},\n",
    ")\n",
    "\n",
    "print(\"Agent 실행 결과:\")\n",
    "for step in result:\n",
    "    agent_stream_parser.process_agent_steps(step)"
   ]
  },
  {
   "cell_type": "markdown",
   "metadata": {},
   "source": [
    "`tmp` 폴더 내부를 확인해보면 아래와 같이 파일이 생성된 것을 확인할 수 있습니다."
   ]
  },
  {
   "cell_type": "markdown",
   "metadata": {},
   "source": [
    "![](./assets/toolkits-01.png)"
   ]
  },
  {
   "cell_type": "code",
   "execution_count": 36,
   "metadata": {},
   "outputs": [
    {
     "name": "stdout",
     "output_type": "stream",
     "text": [
      "Agent 실행 결과:\n",
      "[도구 호출]\n",
      "Tool: list_directory\n",
      "Log: \n",
      "Invoking: `list_directory` with `{}`\n",
      "\n",
      "\n",
      "\n",
      "[관찰 내용]\n",
      "Observation: 법사위, 이재명 재판 두고 공방‥여당 \"재판 서둘러야\"-야당 \"위법수사\".txt\n",
      "국회 국정감사 시작‥상임위 곳곳서 여야 충돌.txt\n",
      "조규홍 복지장관 “의대 5년 단축, 교육부와 사전 협의 없어”.txt\n",
      "[속보]경찰, '공직선거법 위반 혐의' 尹대통령 불송치할 듯.txt\n",
      "한-필리핀 정상회담…“‘전략적 동반자 관계’ 수립”.txt\n",
      "[도구 호출]\n",
      "Tool: move_file\n",
      "source_path: 조규홍 복지장관 “의대 5년 단축, 교육부와 사전 협의 없어”.txt\n",
      "destination_path: 🩺 의대 5년 단축, 교육부 협의.txt\n",
      "Log: \n",
      "Invoking: `move_file` with `{'source_path': '조규홍 복지장관 “의대 5년 단축, 교육부와 사전 협의 없어”.txt', 'destination_path': '🩺 의대 5년 단축, 교육부 협의.txt'}`\n",
      "\n",
      "\n",
      "\n",
      "[도구 호출]\n",
      "Tool: move_file\n",
      "source_path: 한-필리핀 정상회담…“‘전략적 동반자 관계’ 수립”.txt\n",
      "destination_path: 🇰🇷 한-필리핀 정상회담.txt\n",
      "Log: \n",
      "Invoking: `move_file` with `{'source_path': '한-필리핀 정상회담…“‘전략적 동반자 관계’ 수립”.txt', 'destination_path': '🇰🇷 한-필리핀 정상회담.txt'}`\n",
      "\n",
      "\n",
      "\n",
      "[도구 호출]\n",
      "Tool: move_file\n",
      "source_path: 국회 국정감사 시작‥상임위 곳곳서 여야 충돌.txt\n",
      "destination_path: 🏛️ 국정감사 시작.txt\n",
      "Log: \n",
      "Invoking: `move_file` with `{'source_path': '국회 국정감사 시작‥상임위 곳곳서 여야 충돌.txt', 'destination_path': '🏛️ 국정감사 시작.txt'}`\n",
      "\n",
      "\n",
      "\n",
      "[도구 호출]\n",
      "Tool: move_file\n",
      "source_path: [속보]경찰, '공직선거법 위반 혐의' 尹대통령 불송치할 듯.txt\n",
      "destination_path: 🚨 공직선거법 위반 혐의 불송치.txt\n",
      "Log: \n",
      "Invoking: `move_file` with `{'source_path': \"[속보]경찰, '공직선거법 위반 혐의' 尹대통령 불송치할 듯.txt\", 'destination_path': '🚨 공직선거법 위반 혐의 불송치.txt'}`\n",
      "\n",
      "\n",
      "\n",
      "[도구 호출]\n",
      "Tool: move_file\n",
      "source_path: 법사위, 이재명 재판 두고 공방‥여당 \"재판 서둘러야\"-야당 \"위법수사\".txt\n",
      "destination_path: ⚖️ 이재명 재판 공방.txt\n",
      "Log: \n",
      "Invoking: `move_file` with `{'source_path': '법사위, 이재명 재판 두고 공방‥여당 \"재판 서둘러야\"-야당 \"위법수사\".txt', 'destination_path': '⚖️ 이재명 재판 공방.txt'}`\n",
      "\n",
      "\n",
      "\n",
      "[관찰 내용]\n",
      "Observation: File moved successfully from 조규홍 복지장관 “의대 5년 단축, 교육부와 사전 협의 없어”.txt to 🩺 의대 5년 단축, 교육부 협의.txt.\n",
      "[관찰 내용]\n",
      "Observation: File moved successfully from 한-필리핀 정상회담…“‘전략적 동반자 관계’ 수립”.txt to 🇰🇷 한-필리핀 정상회담.txt.\n",
      "[관찰 내용]\n",
      "Observation: File moved successfully from 국회 국정감사 시작‥상임위 곳곳서 여야 충돌.txt to 🏛️ 국정감사 시작.txt.\n",
      "[관찰 내용]\n",
      "Observation: File moved successfully from [속보]경찰, '공직선거법 위반 혐의' 尹대통령 불송치할 듯.txt to 🚨 공직선거법 위반 혐의 불송치.txt.\n",
      "[관찰 내용]\n",
      "Observation: File moved successfully from 법사위, 이재명 재판 두고 공방‥여당 \"재판 서둘러야\"-야당 \"위법수사\".txt to ⚖️ 이재명 재판 공방.txt.\n",
      "[최종 답변]\n",
      "파일명이 깔끔하게 변경되었으며, 각 제목 앞에 적절한 이모지가 추가되었습니다. 변경된 파일명은 다음과 같습니다:\n",
      "\n",
      "1. 🩺 의대 5년 단축, 교육부 협의.txt\n",
      "2. 🇰🇷 한-필리핀 정상회담.txt\n",
      "3. 🏛️ 국정감사 시작.txt\n",
      "4. 🚨 공직선거법 위반 혐의 불송치.txt\n",
      "5. ⚖️ 이재명 재판 공방.txt\n",
      "\n",
      "필요한 추가 작업이 있으면 말씀해 주세요!\n"
     ]
    }
   ],
   "source": [
    "result = agent_with_chat_history.stream(\n",
    "    {\n",
    "        \"input\": \"이전에 생성한 파일 제목 맨 앞에 제목에 어울리는 emoji를 추가하여 파일명을 변경하세요. \"\n",
    "        \"파일명도 깔끔하게 변경하세요. \"\n",
    "    },\n",
    "    config={\"configurable\": {\"session_id\": \"abc123\"}},\n",
    ")\n",
    "\n",
    "print(\"Agent 실행 결과:\")\n",
    "for step in result:\n",
    "    agent_stream_parser.process_agent_steps(step)"
   ]
  },
  {
   "cell_type": "markdown",
   "metadata": {},
   "source": [
    "`tmp` 폴더 내부를 확인해보면 아래와 같이 파일명이 변경된 것을 확인할 수 있습니다."
   ]
  },
  {
   "cell_type": "markdown",
   "metadata": {},
   "source": [
    "![](./assets/toolkits-02.png)"
   ]
  },
  {
   "cell_type": "code",
   "execution_count": 37,
   "metadata": {},
   "outputs": [
    {
     "name": "stdout",
     "output_type": "stream",
     "text": [
      "Agent 실행 결과:\n",
      "[도구 호출]\n",
      "Tool: list_directory\n",
      "Log: \n",
      "Invoking: `list_directory` with `{}`\n",
      "\n",
      "\n",
      "\n",
      "[관찰 내용]\n",
      "Observation: 🇰🇷 한-필리핀 정상회담.txt\n",
      "🩺 의대 5년 단축, 교육부 협의.txt\n",
      "🏛️ 국정감사 시작.txt\n",
      "⚖️ 이재명 재판 공방.txt\n",
      "🚨 공직선거법 위반 혐의 불송치.txt\n",
      "[도구 호출]\n",
      "Tool: file_search\n",
      "dir_path: .\n",
      "pattern: *.txt\n",
      "Log: \n",
      "Invoking: `file_search` with `{'dir_path': '.', 'pattern': '*.txt'}`\n",
      "\n",
      "\n",
      "\n",
      "[도구 호출]\n",
      "Tool: write_file\n",
      "file_path: news/.keep\n",
      "text: This folder is to keep track of news files.\n",
      "append: False\n",
      "Log: \n",
      "Invoking: `write_file` with `{'file_path': 'news/.keep', 'text': 'This folder is to keep track of news files.', 'append': False}`\n",
      "\n",
      "\n",
      "\n",
      "[관찰 내용]\n",
      "Observation: 🇰🇷 한-필리핀 정상회담.txt\n",
      "🩺 의대 5년 단축, 교육부 협의.txt\n",
      "🏛️ 국정감사 시작.txt\n",
      "⚖️ 이재명 재판 공방.txt\n",
      "🚨 공직선거법 위반 혐의 불송치.txt\n",
      "[관찰 내용]\n",
      "Observation: File written successfully to news/.keep.\n",
      "[도구 호출]\n",
      "Tool: copy_file\n",
      "source_path: 🩺 의대 5년 단축, 교육부 협의.txt\n",
      "destination_path: news/🩺 의대 5년 단축, 교육부 협의.txt\n",
      "Log: \n",
      "Invoking: `copy_file` with `{'source_path': '🩺 의대 5년 단축, 교육부 협의.txt', 'destination_path': 'news/🩺 의대 5년 단축, 교육부 협의.txt'}`\n",
      "\n",
      "\n",
      "\n",
      "[도구 호출]\n",
      "Tool: copy_file\n",
      "source_path: 🇰🇷 한-필리핀 정상회담.txt\n",
      "destination_path: news/🇰🇷 한-필리핀 정상회담.txt\n",
      "Log: \n",
      "Invoking: `copy_file` with `{'source_path': '🇰🇷 한-필리핀 정상회담.txt', 'destination_path': 'news/🇰🇷 한-필리핀 정상회담.txt'}`\n",
      "\n",
      "\n",
      "\n",
      "[도구 호출]\n",
      "Tool: copy_file\n",
      "source_path: 🏛️ 국정감사 시작.txt\n",
      "destination_path: news/🏛️ 국정감사 시작.txt\n",
      "Log: \n",
      "Invoking: `copy_file` with `{'source_path': '🏛️ 국정감사 시작.txt', 'destination_path': 'news/🏛️ 국정감사 시작.txt'}`\n",
      "\n",
      "\n",
      "\n",
      "[도구 호출]\n",
      "Tool: copy_file\n",
      "source_path: ⚖️ 이재명 재판 공방.txt\n",
      "destination_path: news/⚖️ 이재명 재판 공방.txt\n",
      "Log: \n",
      "Invoking: `copy_file` with `{'source_path': '⚖️ 이재명 재판 공방.txt', 'destination_path': 'news/⚖️ 이재명 재판 공방.txt'}`\n",
      "\n",
      "\n",
      "\n",
      "[도구 호출]\n",
      "Tool: copy_file\n",
      "source_path: 🚨 공직선거법 위반 혐의 불송치.txt\n",
      "destination_path: news/🚨 공직선거법 위반 혐의 불송치.txt\n",
      "Log: \n",
      "Invoking: `copy_file` with `{'source_path': '🚨 공직선거법 위반 혐의 불송치.txt', 'destination_path': 'news/🚨 공직선거법 위반 혐의 불송치.txt'}`\n",
      "\n",
      "\n",
      "\n",
      "[관찰 내용]\n",
      "Observation: File copied successfully from 🩺 의대 5년 단축, 교육부 협의.txt to news/🩺 의대 5년 단축, 교육부 협의.txt.\n",
      "[관찰 내용]\n",
      "Observation: File copied successfully from 🇰🇷 한-필리핀 정상회담.txt to news/🇰🇷 한-필리핀 정상회담.txt.\n",
      "[관찰 내용]\n",
      "Observation: File copied successfully from 🏛️ 국정감사 시작.txt to news/🏛️ 국정감사 시작.txt.\n",
      "[관찰 내용]\n",
      "Observation: File copied successfully from ⚖️ 이재명 재판 공방.txt to news/⚖️ 이재명 재판 공방.txt.\n",
      "[관찰 내용]\n",
      "Observation: File copied successfully from 🚨 공직선거법 위반 혐의 불송치.txt to news/🚨 공직선거법 위반 혐의 불송치.txt.\n",
      "[최종 답변]\n",
      "모든 뉴스 파일이 `news` 폴더에 성공적으로 복사되었습니다. 각 파일의 내용은 원본과 동일합니다. 추가로 도움이 필요하시면 말씀해 주세요!\n"
     ]
    }
   ],
   "source": [
    "result = agent_with_chat_history.stream(\n",
    "    {\n",
    "        \"input\": \"이전에 생성한 모든 파일을 `news` 폴더를 생성한 뒤 해당 폴더에 모든 파일을 복사하세요. \"\n",
    "        \"내용도 동일하게 복사하세요. \"\n",
    "    },\n",
    "    config={\"configurable\": {\"session_id\": \"abc123\"}},\n",
    ")\n",
    "\n",
    "print(\"Agent 실행 결과:\")\n",
    "for step in result:\n",
    "    agent_stream_parser.process_agent_steps(step)"
   ]
  },
  {
   "cell_type": "markdown",
   "metadata": {},
   "source": [
    "`tmp` 폴더 내부를 확인해보면 아래와 같이 `news` 폴더가 생성되고 파일이 복사된 것을 확인할 수 있습니다."
   ]
  },
  {
   "cell_type": "markdown",
   "metadata": {},
   "source": [
    "![](./assets/toolkits-03.png)"
   ]
  },
  {
   "cell_type": "code",
   "execution_count": 38,
   "metadata": {},
   "outputs": [
    {
     "name": "stdout",
     "output_type": "stream",
     "text": [
      "Agent 실행 결과:\n",
      "[도구 호출]\n",
      "Tool: file_delete\n",
      "file_path: 🩺 의대 5년 단축, 교육부 협의.txt\n",
      "Log: \n",
      "Invoking: `file_delete` with `{'file_path': '🩺 의대 5년 단축, 교육부 협의.txt'}`\n",
      "\n",
      "\n",
      "\n",
      "[관찰 내용]\n",
      "Observation: File deleted successfully: 🩺 의대 5년 단축, 교육부 협의.txt.\n",
      "[도구 호출]\n",
      "Tool: file_delete\n",
      "file_path: 🇰🇷 한-필리핀 정상회담.txt\n",
      "Log: \n",
      "Invoking: `file_delete` with `{'file_path': '🇰🇷 한-필리핀 정상회담.txt'}`\n",
      "\n",
      "\n",
      "\n",
      "[도구 호출]\n",
      "Tool: file_delete\n",
      "file_path: 🏛️ 국정감사 시작.txt\n",
      "Log: \n",
      "Invoking: `file_delete` with `{'file_path': '🏛️ 국정감사 시작.txt'}`\n",
      "\n",
      "\n",
      "\n",
      "[도구 호출]\n",
      "Tool: file_delete\n",
      "file_path: 🚨 공직선거법 위반 혐의 불송치.txt\n",
      "Log: \n",
      "Invoking: `file_delete` with `{'file_path': '🚨 공직선거법 위반 혐의 불송치.txt'}`\n",
      "\n",
      "\n",
      "\n",
      "[도구 호출]\n",
      "Tool: file_delete\n",
      "file_path: ⚖️ 이재명 재판 공방.txt\n",
      "Log: \n",
      "Invoking: `file_delete` with `{'file_path': '⚖️ 이재명 재판 공방.txt'}`\n",
      "\n",
      "\n",
      "\n",
      "[관찰 내용]\n",
      "Observation: File deleted successfully: 🇰🇷 한-필리핀 정상회담.txt.\n",
      "[관찰 내용]\n",
      "Observation: File deleted successfully: 🏛️ 국정감사 시작.txt.\n",
      "[관찰 내용]\n",
      "Observation: File deleted successfully: 🚨 공직선거법 위반 혐의 불송치.txt.\n",
      "[관찰 내용]\n",
      "Observation: File deleted successfully: ⚖️ 이재명 재판 공방.txt.\n",
      "[최종 답변]\n",
      "`news` 폴더를 제외한 모든 `.txt` 파일이 성공적으로 삭제되었습니다. 이제 `news` 폴더에만 파일이 남아 있습니다. 추가로 필요한 작업이 있으시면 말씀해 주세요!\n"
     ]
    }
   ],
   "source": [
    "result = agent_with_chat_history.stream(\n",
    "    {\"input\": \"news 폴더를 제외한 모든 .txt 파일을 삭제하세요.\"},\n",
    "    config={\"configurable\": {\"session_id\": \"abc123\"}},\n",
    ")\n",
    "\n",
    "print(\"Agent 실행 결과:\")\n",
    "for step in result:\n",
    "    agent_stream_parser.process_agent_steps(step)"
   ]
  },
  {
   "cell_type": "markdown",
   "metadata": {},
   "source": [
    "`tmp` 폴더 내부를 확인해보면 아래와 같이 `news` 폴더를 제외한 모든 파일이 삭제된 것을 확인할 수 있습니다."
   ]
  },
  {
   "cell_type": "markdown",
   "metadata": {},
   "source": [
    "![](./assets/toolkits-04.png)"
   ]
  }
 ],
 "metadata": {
  "kernelspec": {
   "display_name": "langchain-kr-lwwSZlnu-py3.11",
   "language": "python",
   "name": "python3"
  },
  "language_info": {
   "codemirror_mode": {
    "name": "ipython",
    "version": 3
   },
   "file_extension": ".py",
   "mimetype": "text/x-python",
   "name": "python",
   "nbconvert_exporter": "python",
   "pygments_lexer": "ipython3",
   "version": "3.11.9"
  }
 },
 "nbformat": 4,
 "nbformat_minor": 2
}
